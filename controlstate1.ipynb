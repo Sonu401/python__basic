{
 "cells": [
  {
   "cell_type": "code",
   "execution_count": 1,
   "id": "1da5e811-d939-4be8-bee8-f1ff65b78502",
   "metadata": {},
   "outputs": [
    {
     "name": "stdout",
     "output_type": "stream",
     "text": [
      "you will be part of A3 batch\n"
     ]
    }
   ],
   "source": [
    "marks =30\n",
    "if marks >= 80 :\n",
    "    print(\"you will be a part of A1 batch\")\n",
    "elif marks >= 60 and marks <80:\n",
    "    print(\"you will be part of A2\")\n",
    "elif marks >=40 and marks <60 :\n",
    "    print(\"you will be a part of a A2 batch\")\n",
    "else:\n",
    "    print(\"you will be part of A3 batch\")"
   ]
  },
  {
   "cell_type": "code",
   "execution_count": 2,
   "id": "a0740d40-d839-4b46-9d94-27a01f2c66f7",
   "metadata": {},
   "outputs": [
    {
     "data": {
      "text/plain": [
       "False"
      ]
     },
     "execution_count": 2,
     "metadata": {},
     "output_type": "execute_result"
    }
   ],
   "source": [
    "10>=80"
   ]
  },
  {
   "cell_type": "code",
   "execution_count": 3,
   "id": "9c37f464-da77-4f88-9eb9-6960bd09444b",
   "metadata": {},
   "outputs": [
    {
     "data": {
      "text/plain": [
       "True"
      ]
     },
     "execution_count": 3,
     "metadata": {},
     "output_type": "execute_result"
    }
   ],
   "source": [
    "90>=80 #greater than rqual to"
   ]
  },
  {
   "cell_type": "code",
   "execution_count": 4,
   "id": "5c3f6659-2b5d-4efb-95ff-eef4262fc66a",
   "metadata": {},
   "outputs": [
    {
     "data": {
      "text/plain": [
       "True"
      ]
     },
     "execution_count": 4,
     "metadata": {},
     "output_type": "execute_result"
    }
   ],
   "source": [
    "10<=80 #less than equal to"
   ]
  },
  {
   "cell_type": "code",
   "execution_count": 5,
   "id": "9023768f-598e-40d3-b891-7ace06cb40be",
   "metadata": {},
   "outputs": [
    {
     "name": "stdout",
     "output_type": "stream",
     "text": [
      "you will be part of A2\n"
     ]
    }
   ],
   "source": [
    "marks =65\n",
    "if marks >= 80 :\n",
    "    print(\"you will be a part of A1 batch\")\n",
    "elif marks >= 60 and marks <80:\n",
    "    print(\"you will be part of A2\")\n",
    "elif marks >=40 and marks <60 :\n",
    "    print(\"you will be a part of a A2 batch\")\n",
    "else:\n",
    "    print(\"you will be part of A3 batch\")"
   ]
  },
  {
   "cell_type": "code",
   "execution_count": 6,
   "id": "d1f616be-2740-4366-b7ee-06f62f07faf5",
   "metadata": {},
   "outputs": [
    {
     "name": "stdout",
     "output_type": "stream",
     "text": [
      "you will be a part of A1 batch\n"
     ]
    }
   ],
   "source": [
    "marks =90\n",
    "if marks >= 80 :\n",
    "    print(\"you will be a part of A1 batch\")\n",
    "elif marks >= 60 and marks <80:\n",
    "    print(\"you will be part of A2\")\n",
    "elif marks >=40 and marks <60 :\n",
    "    print(\"you will be a part of a A2 batch\")\n",
    "else:\n",
    "    print(\"you will be part of A3 batch\")"
   ]
  },
  {
   "cell_type": "code",
   "execution_count": null,
   "id": "378e2ff9-d76d-4530-959a-ed4729f1293f",
   "metadata": {},
   "outputs": [],
   "source": []
  }
 ],
 "metadata": {
  "kernelspec": {
   "display_name": "Python 3 (ipykernel)",
   "language": "python",
   "name": "python3"
  },
  "language_info": {
   "codemirror_mode": {
    "name": "ipython",
    "version": 3
   },
   "file_extension": ".py",
   "mimetype": "text/x-python",
   "name": "python",
   "nbconvert_exporter": "python",
   "pygments_lexer": "ipython3",
   "version": "3.10.8"
  }
 },
 "nbformat": 4,
 "nbformat_minor": 5
}
