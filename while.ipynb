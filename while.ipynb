{
 "cells": [
  {
   "cell_type": "code",
   "execution_count": 2,
   "id": "2d54c4c0-b03c-429b-b68b-22b1bed97405",
   "metadata": {},
   "outputs": [
    {
     "name": "stdout",
     "output_type": "stream",
     "text": [
      "1\n",
      "2\n",
      "3\n",
      "4\n",
      "5\n",
      "6\n",
      "7\n",
      "8\n",
      "9\n",
      "10\n"
     ]
    }
   ],
   "source": [
    "a=1\n",
    "while a<=10:\n",
    "    print(a)\n",
    "    a=a+1"
   ]
  },
  {
   "cell_type": "code",
   "execution_count": 9,
   "id": "713a1cb8-b9a6-43d8-ad08-34708a3e1c80",
   "metadata": {},
   "outputs": [
    {
     "name": "stdin",
     "output_type": "stream",
     "text": [
      "enter your limit 60\n"
     ]
    },
    {
     "data": {
      "text/plain": [
       "1830"
      ]
     },
     "execution_count": 9,
     "metadata": {},
     "output_type": "execute_result"
    }
   ],
   "source": [
    "n = int(input(\"enter your limit\"))\n",
    "starting_point = 0\n",
    "counter = 1\n",
    "\n",
    "while counter <= n:\n",
    "    starting_point = starting_point + counter\n",
    "    counter = counter + 1\n",
    "starting_point\n",
    "    \n"
   ]
  },
  {
   "cell_type": "code",
   "execution_count": 10,
   "id": "a7e2e8b5-14a3-420d-afea-0edbde7b094a",
   "metadata": {},
   "outputs": [
    {
     "name": "stdin",
     "output_type": "stream",
     "text": [
      "enter your limit 5\n"
     ]
    },
    {
     "data": {
      "text/plain": [
       "15"
      ]
     },
     "execution_count": 10,
     "metadata": {},
     "output_type": "execute_result"
    }
   ],
   "source": [
    "n = int(input(\"enter your limit\"))\n",
    "starting_point = 0\n",
    "counter = 1\n",
    "\n",
    "while counter <= n:\n",
    "    starting_point = starting_point + counter\n",
    "    counter = counter + 1\n",
    "starting_point\n",
    "    \n"
   ]
  },
  {
   "cell_type": "code",
   "execution_count": 13,
   "id": "398f6af4-2bcc-4151-a0ec-ef8ff3441443",
   "metadata": {},
   "outputs": [
    {
     "name": "stdin",
     "output_type": "stream",
     "text": [
      "enter your number 5\n"
     ]
    },
    {
     "data": {
      "text/plain": [
       "120"
      ]
     },
     "execution_count": 13,
     "metadata": {},
     "output_type": "execute_result"
    }
   ],
   "source": [
    "number= int(input(\"enter your number\"))\n",
    "factorial = 1\n",
    "while number > 0 :\n",
    "    factorial = factorial*number\n",
    "    number = number-1\n",
    "factorial"
   ]
  },
  {
   "cell_type": "code",
   "execution_count": 14,
   "id": "66396434-2049-4ab2-9887-9bd35f14d634",
   "metadata": {},
   "outputs": [],
   "source": [
    "#financci series(next number is sum of previous two number)"
   ]
  },
  {
   "cell_type": "code",
   "execution_count": 15,
   "id": "b474a642-94f7-4e45-ba29-f5e95b294f20",
   "metadata": {},
   "outputs": [
    {
     "name": "stdin",
     "output_type": "stream",
     "text": [
      "enter the number of element you are looking for 5\n"
     ]
    },
    {
     "name": "stdout",
     "output_type": "stream",
     "text": [
      "0\n",
      "1\n",
      "1\n",
      "2\n",
      "3\n"
     ]
    }
   ],
   "source": [
    "number = int(input(\"enter the number of element you are looking for\"))\n",
    "a, b = 0, 1\n",
    "counter = 0\n",
    "while counter < number :\n",
    "    print(a)\n",
    "    c=a+b\n",
    "    a=b\n",
    "    b=c\n",
    "    counter = counter+ 1"
   ]
  },
  {
   "cell_type": "code",
   "execution_count": 16,
   "id": "4b87502e-3f7a-49f5-83e7-af2bb1d754d8",
   "metadata": {},
   "outputs": [
    {
     "name": "stdin",
     "output_type": "stream",
     "text": [
      "enter the number of element you are looking for 10\n"
     ]
    },
    {
     "name": "stdout",
     "output_type": "stream",
     "text": [
      "0\n",
      "1\n",
      "1\n",
      "2\n",
      "3\n",
      "5\n",
      "8\n",
      "13\n",
      "21\n",
      "34\n"
     ]
    }
   ],
   "source": [
    "number = int(input(\"enter the number of element you are looking for\"))\n",
    "a, b = 0, 1\n",
    "counter = 0\n",
    "while counter < number :\n",
    "    print(a)\n",
    "    c=a+b\n",
    "    a=b\n",
    "    b=c\n",
    "    counter = counter+ 1"
   ]
  },
  {
   "cell_type": "code",
   "execution_count": 17,
   "id": "19774aa1-bcd0-41a5-aeea-30a371a53286",
   "metadata": {},
   "outputs": [
    {
     "name": "stdout",
     "output_type": "stream",
     "text": [
      "0\n",
      "1\n",
      "1\n",
      "2\n",
      "3\n",
      "5\n",
      "8\n",
      "13\n",
      "21\n",
      "34\n"
     ]
    }
   ],
   "source": [
    "a,b = 0, 1\n",
    "for i in range(10) :\n",
    "    print(a)\n",
    "    c=a+b\n",
    "    a=b\n",
    "    b=c"
   ]
  },
  {
   "cell_type": "code",
   "execution_count": 18,
   "id": "817512fc-ed86-4c4f-856b-4e4ffbc6ba05",
   "metadata": {},
   "outputs": [],
   "source": [
    "s='sonu'"
   ]
  },
  {
   "cell_type": "code",
   "execution_count": 19,
   "id": "a30f6c0a-bbb7-4f6a-aacf-f8e5fb3435b0",
   "metadata": {},
   "outputs": [
    {
     "data": {
      "text/plain": [
       "'unos'"
      ]
     },
     "execution_count": 19,
     "metadata": {},
     "output_type": "execute_result"
    }
   ],
   "source": [
    "s[::-1]"
   ]
  },
  {
   "cell_type": "code",
   "execution_count": 20,
   "id": "69d7a7e6-7f0c-40c4-b84e-4b7846eeec1b",
   "metadata": {},
   "outputs": [
    {
     "name": "stdin",
     "output_type": "stream",
     "text": [
      "enter your string for reversal sonu\n"
     ]
    }
   ],
   "source": [
    "word = input(\"enter your string for reversal\")"
   ]
  },
  {
   "cell_type": "code",
   "execution_count": 22,
   "id": "36dd01a1-7f81-4f21-b8f1-33fb9a958e77",
   "metadata": {},
   "outputs": [
    {
     "name": "stdout",
     "output_type": "stream",
     "text": [
      "unos\n"
     ]
    }
   ],
   "source": [
    "reverse = \"\"\n",
    "length = len(word)\n",
    "while length > 0 :\n",
    "    reverse = reverse + word[length -1]\n",
    "    length = length -1\n",
    "print(reverse)"
   ]
  },
  {
   "cell_type": "code",
   "execution_count": 23,
   "id": "5e75a25e-f4d2-4efd-b940-df2a7655c3d2",
   "metadata": {},
   "outputs": [
    {
     "name": "stdin",
     "output_type": "stream",
     "text": [
      "enter your number 2\n"
     ]
    },
    {
     "name": "stdout",
     "output_type": "stream",
     "text": [
      "2 *  1 = 2\n",
      "2 *  2 = 4\n",
      "2 *  3 = 6\n",
      "2 *  4 = 8\n",
      "2 *  5 = 10\n",
      "2 *  6 = 12\n",
      "2 *  7 = 14\n",
      "2 *  8 = 16\n",
      "2 *  9 = 18\n",
      "2 *  10 = 20\n"
     ]
    }
   ],
   "source": [
    "n = int(input(\"enter your number\"))\n",
    "i=1\n",
    "\n",
    "while i <=10 :\n",
    "    result = n*i\n",
    "    print(n,\"* \", i ,\"=\",result)\n",
    "    i=i+1\n",
    "    \n",
    "    "
   ]
  },
  {
   "cell_type": "code",
   "execution_count": 24,
   "id": "2da2fbc7-c5ce-4d32-b8c7-e0770a28a82a",
   "metadata": {},
   "outputs": [
    {
     "name": "stdin",
     "output_type": "stream",
     "text": [
      "enter your number 21\n"
     ]
    },
    {
     "name": "stdout",
     "output_type": "stream",
     "text": [
      "21 *  1 = 21\n",
      "21 *  2 = 42\n",
      "21 *  3 = 63\n",
      "21 *  4 = 84\n",
      "21 *  5 = 105\n",
      "21 *  6 = 126\n",
      "21 *  7 = 147\n",
      "21 *  8 = 168\n",
      "21 *  9 = 189\n",
      "21 *  10 = 210\n"
     ]
    }
   ],
   "source": [
    "n = int(input(\"enter your number\"))\n",
    "i=1\n",
    "\n",
    "while i <=10 :\n",
    "    result = n*i\n",
    "    print(n,\"* \", i ,\"=\",result)\n",
    "    i=i+1\n",
    "    "
   ]
  },
  {
   "cell_type": "code",
   "execution_count": 25,
   "id": "4e24b1cd-7de4-4b99-8a2f-f9cba8ec1700",
   "metadata": {},
   "outputs": [
    {
     "name": "stdout",
     "output_type": "stream",
     "text": [
      "1\n",
      "2\n",
      "3\n",
      "4\n"
     ]
    }
   ],
   "source": [
    "n = 5\n",
    "i = 1\n",
    "while i<n:\n",
    "    print(i)\n",
    "    i = i+1"
   ]
  },
  {
   "cell_type": "code",
   "execution_count": 26,
   "id": "facb14d3-3d28-4632-b714-06e841f6b660",
   "metadata": {},
   "outputs": [
    {
     "name": "stdout",
     "output_type": "stream",
     "text": [
      "1\n",
      "2\n",
      "3\n",
      "4\n",
      "this will be executed once your while will complete successfully\n"
     ]
    }
   ],
   "source": [
    "n = 5\n",
    "i = 1\n",
    "while i<n:\n",
    "    print(i)\n",
    "    i = i+1\n",
    "else:\n",
    "    print(\"this will be executed once your while will complete successfully\")\n",
    "        "
   ]
  },
  {
   "cell_type": "code",
   "execution_count": null,
   "id": "fd37afc7-2c86-4c58-83b6-b7d4bea8fe9b",
   "metadata": {},
   "outputs": [],
   "source": []
  }
 ],
 "metadata": {
  "kernelspec": {
   "display_name": "Python 3 (ipykernel)",
   "language": "python",
   "name": "python3"
  },
  "language_info": {
   "codemirror_mode": {
    "name": "ipython",
    "version": 3
   },
   "file_extension": ".py",
   "mimetype": "text/x-python",
   "name": "python",
   "nbconvert_exporter": "python",
   "pygments_lexer": "ipython3",
   "version": "3.10.8"
  }
 },
 "nbformat": 4,
 "nbformat_minor": 5
}
