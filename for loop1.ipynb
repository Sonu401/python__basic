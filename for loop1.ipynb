{
 "cells": [
  {
   "cell_type": "code",
   "execution_count": 1,
   "id": "83aeb061-b323-42f0-b4c7-ac64c947ab5a",
   "metadata": {},
   "outputs": [],
   "source": [
    "sonu=[1,2,3,4,5,6,7,8,9]"
   ]
  },
  {
   "cell_type": "code",
   "execution_count": 2,
   "id": "6ef8b075-8ab0-4cbb-9196-e3eb737f97f5",
   "metadata": {},
   "outputs": [
    {
     "data": {
      "text/plain": [
       "[1, 2, 3, 4, 5, 6, 7, 8, 9]"
      ]
     },
     "execution_count": 2,
     "metadata": {},
     "output_type": "execute_result"
    }
   ],
   "source": [
    "sonu"
   ]
  },
  {
   "cell_type": "code",
   "execution_count": 3,
   "id": "9d45e5dc-ea4c-401a-bf7f-2978f0b815e6",
   "metadata": {},
   "outputs": [
    {
     "data": {
      "text/plain": [
       "2"
      ]
     },
     "execution_count": 3,
     "metadata": {},
     "output_type": "execute_result"
    }
   ],
   "source": [
    "sonu[0]+1"
   ]
  },
  {
   "cell_type": "code",
   "execution_count": 4,
   "id": "0ed3648f-68cf-4d45-abd5-140fa2c0507a",
   "metadata": {},
   "outputs": [],
   "source": [
    "sonu1 =[]"
   ]
  },
  {
   "cell_type": "code",
   "execution_count": 5,
   "id": "7367734f-e632-48b6-8ef7-53dd7d92a855",
   "metadata": {},
   "outputs": [],
   "source": [
    "sonu1.append(sonu[0]+1)"
   ]
  },
  {
   "cell_type": "code",
   "execution_count": 6,
   "id": "a8326277-75c6-4587-9988-71974ed55ac4",
   "metadata": {},
   "outputs": [
    {
     "data": {
      "text/plain": [
       "[2]"
      ]
     },
     "execution_count": 6,
     "metadata": {},
     "output_type": "execute_result"
    }
   ],
   "source": [
    "sonu1"
   ]
  },
  {
   "cell_type": "code",
   "execution_count": 7,
   "id": "340d60df-f327-479b-95c7-6ba80527547c",
   "metadata": {},
   "outputs": [],
   "source": [
    "sonu=[1,2,3,4,5,6,7,8,9]"
   ]
  },
  {
   "cell_type": "code",
   "execution_count": 10,
   "id": "d52d6296-515e-4dd5-ac54-671502966bf5",
   "metadata": {},
   "outputs": [
    {
     "name": "stdout",
     "output_type": "stream",
     "text": [
      "1\n",
      "2\n",
      "3\n",
      "4\n",
      "5\n",
      "6\n",
      "7\n",
      "8\n",
      "9\n"
     ]
    }
   ],
   "source": [
    "for i in sonu :\n",
    "    print(i)"
   ]
  },
  {
   "cell_type": "code",
   "execution_count": 11,
   "id": "13202b51-a9a0-42ec-8961-662342f567c4",
   "metadata": {},
   "outputs": [
    {
     "name": "stdout",
     "output_type": "stream",
     "text": [
      "[1, 2, 3, 4, 5, 6, 7, 8, 9]\n",
      "[1, 2, 3, 4, 5, 6, 7, 8, 9]\n",
      "[1, 2, 3, 4, 5, 6, 7, 8, 9]\n",
      "[1, 2, 3, 4, 5, 6, 7, 8, 9]\n",
      "[1, 2, 3, 4, 5, 6, 7, 8, 9]\n",
      "[1, 2, 3, 4, 5, 6, 7, 8, 9]\n",
      "[1, 2, 3, 4, 5, 6, 7, 8, 9]\n",
      "[1, 2, 3, 4, 5, 6, 7, 8, 9]\n",
      "[1, 2, 3, 4, 5, 6, 7, 8, 9]\n"
     ]
    }
   ],
   "source": [
    "for i in sonu :\n",
    "    print(sonu)"
   ]
  },
  {
   "cell_type": "code",
   "execution_count": 12,
   "id": "63625f8b-5c8e-406e-a221-e8b5a3757ec0",
   "metadata": {},
   "outputs": [
    {
     "name": "stdout",
     "output_type": "stream",
     "text": [
      "2\n",
      "3\n",
      "4\n",
      "5\n",
      "6\n",
      "7\n",
      "8\n",
      "9\n",
      "10\n"
     ]
    }
   ],
   "source": [
    "for i in sonu :\n",
    "    print(i+1)"
   ]
  },
  {
   "cell_type": "code",
   "execution_count": 13,
   "id": "73a3b986-75aa-49ef-bd28-36261edc8377",
   "metadata": {},
   "outputs": [
    {
     "name": "stdout",
     "output_type": "stream",
     "text": [
      "2\n",
      "3\n",
      "4\n",
      "5\n",
      "6\n",
      "7\n",
      "8\n",
      "9\n",
      "10\n"
     ]
    }
   ],
   "source": [
    "sonu2 =[]\n",
    "for i in sonu :\n",
    "    print(i+1)\n",
    "    sonu2.append(i+1)\n",
    "    \n",
    "    "
   ]
  },
  {
   "cell_type": "code",
   "execution_count": 14,
   "id": "7c100045-7b3c-49cb-b015-65b91fbf6f04",
   "metadata": {},
   "outputs": [
    {
     "data": {
      "text/plain": [
       "[2, 3, 4, 5, 6, 7, 8, 9, 10]"
      ]
     },
     "execution_count": 14,
     "metadata": {},
     "output_type": "execute_result"
    }
   ],
   "source": [
    "sonu2"
   ]
  },
  {
   "cell_type": "code",
   "execution_count": 15,
   "id": "78236c3f-5413-441d-8cc4-9f6d877a96f1",
   "metadata": {},
   "outputs": [],
   "source": [
    "sonu4=[\"abhi\",\"amit\",\"manu\"]"
   ]
  },
  {
   "cell_type": "code",
   "execution_count": 16,
   "id": "948730ef-f1e2-43cd-9dc8-2b9ac1adac56",
   "metadata": {},
   "outputs": [
    {
     "name": "stdout",
     "output_type": "stream",
     "text": [
      "abhi\n",
      "amit\n",
      "manu\n"
     ]
    }
   ],
   "source": [
    "for i in sonu4 :\n",
    "    print(i)\n",
    "    "
   ]
  },
  {
   "cell_type": "code",
   "execution_count": 17,
   "id": "373f27e1-5b02-49a2-bfab-475fdcbeb0c1",
   "metadata": {},
   "outputs": [
    {
     "name": "stdout",
     "output_type": "stream",
     "text": [
      "abhi\n",
      "amit\n",
      "manu\n"
     ]
    }
   ],
   "source": [
    "l1 =[]\n",
    "for i in sonu4 :\n",
    "    print(i)\n",
    "    l1.append(i.upper())"
   ]
  },
  {
   "cell_type": "code",
   "execution_count": 18,
   "id": "5d53af33-7881-42f3-8aa7-43fecedd122c",
   "metadata": {},
   "outputs": [
    {
     "data": {
      "text/plain": [
       "['ABHI', 'AMIT', 'MANU']"
      ]
     },
     "execution_count": 18,
     "metadata": {},
     "output_type": "execute_result"
    }
   ],
   "source": [
    "l1"
   ]
  },
  {
   "cell_type": "code",
   "execution_count": 19,
   "id": "b05bc736-913b-44a9-a6d1-d35b9e026bd8",
   "metadata": {},
   "outputs": [],
   "source": [
    "sonu5=[1,2,3,4,4,\"amit\",657,34,45.6,\"abc\"]"
   ]
  },
  {
   "cell_type": "code",
   "execution_count": 20,
   "id": "01811aa8-5ffb-4e5b-b27f-168beff94d3a",
   "metadata": {},
   "outputs": [],
   "source": [
    "l2_num =[]\n",
    "l3_str =[]\n",
    "for i in sonu5:\n",
    "    if type(i) == int or type(i) == float:\n",
    "        l2_num.append(i)\n",
    "    else:\n",
    "        l3_str.append(i)\n",
    "        \n",
    "    "
   ]
  },
  {
   "cell_type": "code",
   "execution_count": 21,
   "id": "3f436735-4db5-42a5-b5ef-53d5eb72563d",
   "metadata": {},
   "outputs": [
    {
     "data": {
      "text/plain": [
       "[1, 2, 3, 4, 4, 657, 34, 456]"
      ]
     },
     "execution_count": 21,
     "metadata": {},
     "output_type": "execute_result"
    }
   ],
   "source": [
    "l2_num"
   ]
  },
  {
   "cell_type": "code",
   "execution_count": 22,
   "id": "ff9bd140-f4f0-4afd-8987-38661943209d",
   "metadata": {},
   "outputs": [
    {
     "data": {
      "text/plain": [
       "['amit', 'abc']"
      ]
     },
     "execution_count": 22,
     "metadata": {},
     "output_type": "execute_result"
    }
   ],
   "source": [
    "l3_str"
   ]
  },
  {
   "cell_type": "code",
   "execution_count": null,
   "id": "b65ba162-1a3d-4568-a1bc-b17ab987aa79",
   "metadata": {},
   "outputs": [],
   "source": []
  }
 ],
 "metadata": {
  "kernelspec": {
   "display_name": "Python 3 (ipykernel)",
   "language": "python",
   "name": "python3"
  },
  "language_info": {
   "codemirror_mode": {
    "name": "ipython",
    "version": 3
   },
   "file_extension": ".py",
   "mimetype": "text/x-python",
   "name": "python",
   "nbconvert_exporter": "python",
   "pygments_lexer": "ipython3",
   "version": "3.10.8"
  }
 },
 "nbformat": 4,
 "nbformat_minor": 5
}
