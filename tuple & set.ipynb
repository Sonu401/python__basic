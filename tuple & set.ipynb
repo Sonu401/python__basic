{
 "cells": [
  {
   "cell_type": "code",
   "execution_count": 1,
   "id": "a3feb127-821f-4d5e-af4f-8e0e3f41a031",
   "metadata": {},
   "outputs": [],
   "source": [
    "s=(1,2.8,'sonu',True,)"
   ]
  },
  {
   "cell_type": "code",
   "execution_count": 2,
   "id": "21bd3482-ec29-4030-8532-87377f77eb33",
   "metadata": {},
   "outputs": [
    {
     "data": {
      "text/plain": [
       "(1, 2.8, 'sonu', True)"
      ]
     },
     "execution_count": 2,
     "metadata": {},
     "output_type": "execute_result"
    }
   ],
   "source": [
    "s"
   ]
  },
  {
   "cell_type": "code",
   "execution_count": 3,
   "id": "bddf059b-ceec-4020-bcc1-7b0fc27ec5b3",
   "metadata": {},
   "outputs": [
    {
     "data": {
      "text/plain": [
       "tuple"
      ]
     },
     "execution_count": 3,
     "metadata": {},
     "output_type": "execute_result"
    }
   ],
   "source": [
    "type(s)"
   ]
  },
  {
   "cell_type": "code",
   "execution_count": 4,
   "id": "cdc50ba1-4fb2-4e7c-8089-2a756f4b2b4c",
   "metadata": {},
   "outputs": [
    {
     "data": {
      "text/plain": [
       "4"
      ]
     },
     "execution_count": 4,
     "metadata": {},
     "output_type": "execute_result"
    }
   ],
   "source": [
    "len(s)"
   ]
  },
  {
   "cell_type": "code",
   "execution_count": 6,
   "id": "fcf9ad26-a87a-4f55-9002-97870c72ca76",
   "metadata": {},
   "outputs": [
    {
     "data": {
      "text/plain": [
       "1"
      ]
     },
     "execution_count": 6,
     "metadata": {},
     "output_type": "execute_result"
    }
   ],
   "source": [
    "s[0]"
   ]
  },
  {
   "cell_type": "code",
   "execution_count": 11,
   "id": "9b5b9492-b154-47ed-8a80-cc13ddf5d458",
   "metadata": {},
   "outputs": [
    {
     "data": {
      "text/plain": [
       "(True, 'sonu', 2.8, 1)"
      ]
     },
     "execution_count": 11,
     "metadata": {},
     "output_type": "execute_result"
    }
   ],
   "source": [
    "s[::-1]"
   ]
  },
  {
   "cell_type": "code",
   "execution_count": 13,
   "id": "8a6549dc-f3de-4de2-b6b6-5417acbf54cd",
   "metadata": {},
   "outputs": [
    {
     "data": {
      "text/plain": [
       "True"
      ]
     },
     "execution_count": 13,
     "metadata": {},
     "output_type": "execute_result"
    }
   ],
   "source": [
    "s[-1]"
   ]
  },
  {
   "cell_type": "code",
   "execution_count": 14,
   "id": "95a01bbb-e31f-48b7-b664-954109a0701b",
   "metadata": {},
   "outputs": [
    {
     "data": {
      "text/plain": [
       "(1, 2.8, 'sonu', True)"
      ]
     },
     "execution_count": 14,
     "metadata": {},
     "output_type": "execute_result"
    }
   ],
   "source": [
    "s"
   ]
  },
  {
   "cell_type": "code",
   "execution_count": 15,
   "id": "22850724-9687-4003-ba01-5eef0d9ad216",
   "metadata": {},
   "outputs": [
    {
     "data": {
      "text/plain": [
       "(1, 2.8)"
      ]
     },
     "execution_count": 15,
     "metadata": {},
     "output_type": "execute_result"
    }
   ],
   "source": [
    "s[0:2]"
   ]
  },
  {
   "cell_type": "code",
   "execution_count": 17,
   "id": "fae5910c-6a34-44fe-8029-03d6a3db4824",
   "metadata": {},
   "outputs": [
    {
     "data": {
      "text/plain": [
       "(1, 2.8, 'sonu', True)"
      ]
     },
     "execution_count": 17,
     "metadata": {},
     "output_type": "execute_result"
    }
   ],
   "source": [
    "s"
   ]
  },
  {
   "cell_type": "code",
   "execution_count": 19,
   "id": "4d12e336-7070-4d97-8f07-559ae8ebbfc4",
   "metadata": {},
   "outputs": [],
   "source": [
    "p=('sonu','amit','manu')"
   ]
  },
  {
   "cell_type": "code",
   "execution_count": 21,
   "id": "7c8bd5ca-1b2b-4dbd-b560-c7838595b3a7",
   "metadata": {},
   "outputs": [
    {
     "data": {
      "text/plain": [
       "1"
      ]
     },
     "execution_count": 21,
     "metadata": {},
     "output_type": "execute_result"
    }
   ],
   "source": [
    "p.count('sonu')"
   ]
  },
  {
   "cell_type": "code",
   "execution_count": 22,
   "id": "985c6f0e-0242-4528-b180-891c0fc7fdbf",
   "metadata": {},
   "outputs": [
    {
     "data": {
      "text/plain": [
       "1"
      ]
     },
     "execution_count": 22,
     "metadata": {},
     "output_type": "execute_result"
    }
   ],
   "source": [
    "p.index('amit')"
   ]
  },
  {
   "cell_type": "code",
   "execution_count": 23,
   "id": "b7fe657e-0d26-4937-92f7-fbb165785bbc",
   "metadata": {},
   "outputs": [],
   "source": [
    "s1={}"
   ]
  },
  {
   "cell_type": "code",
   "execution_count": 24,
   "id": "6877933a-1153-4729-90c6-deaef76b3611",
   "metadata": {},
   "outputs": [
    {
     "data": {
      "text/plain": [
       "dict"
      ]
     },
     "execution_count": 24,
     "metadata": {},
     "output_type": "execute_result"
    }
   ],
   "source": [
    "type(s1)"
   ]
  },
  {
   "cell_type": "code",
   "execution_count": 25,
   "id": "688b505f-54b9-4723-b19f-c5b7dfdda3c6",
   "metadata": {},
   "outputs": [],
   "source": [
    "s2={2,3,4,55,6}"
   ]
  },
  {
   "cell_type": "code",
   "execution_count": 26,
   "id": "f0e54fe1-a76a-4f4e-ad6f-06764506b7d2",
   "metadata": {},
   "outputs": [
    {
     "data": {
      "text/plain": [
       "set"
      ]
     },
     "execution_count": 26,
     "metadata": {},
     "output_type": "execute_result"
    }
   ],
   "source": [
    "type(s2)"
   ]
  },
  {
   "cell_type": "code",
   "execution_count": 30,
   "id": "849902e4-8773-4d49-acf2-5e81dbde1dd4",
   "metadata": {},
   "outputs": [],
   "source": [
    "s3={1,2,'sonu','amit',True,6.8,(3,4,5)}\n",
    "#in set tuple are allow but list are not allow"
   ]
  },
  {
   "cell_type": "code",
   "execution_count": 31,
   "id": "b10c6b0f-82fd-44e2-96bb-355fe254b24e",
   "metadata": {},
   "outputs": [
    {
     "data": {
      "text/plain": [
       "{(3, 4, 5), 1, 2, 6.8, 'amit', 'sonu'}"
      ]
     },
     "execution_count": 31,
     "metadata": {},
     "output_type": "execute_result"
    }
   ],
   "source": [
    "s3"
   ]
  },
  {
   "cell_type": "code",
   "execution_count": 29,
   "id": "2cf68d97-92c3-45a3-b91a-556a14813347",
   "metadata": {},
   "outputs": [
    {
     "data": {
      "text/plain": [
       "set"
      ]
     },
     "execution_count": 29,
     "metadata": {},
     "output_type": "execute_result"
    }
   ],
   "source": [
    "type(s3)"
   ]
  },
  {
   "cell_type": "code",
   "execution_count": 34,
   "id": "0569ec0f-c399-47ff-bd32-670ff2780074",
   "metadata": {},
   "outputs": [],
   "source": [
    "s4={2,2,2,3,3,4,5,4,5,6,7,6,7,8,6,'sonu','Sonu'}"
   ]
  },
  {
   "cell_type": "code",
   "execution_count": 35,
   "id": "e606b937-91ea-4ff8-9170-8ab42333102c",
   "metadata": {},
   "outputs": [
    {
     "data": {
      "text/plain": [
       "{2, 3, 4, 5, 6, 7, 8, 'Sonu', 'sonu'}"
      ]
     },
     "execution_count": 35,
     "metadata": {},
     "output_type": "execute_result"
    }
   ],
   "source": [
    "s4"
   ]
  },
  {
   "cell_type": "code",
   "execution_count": 36,
   "id": "3d46d495-6740-402b-b350-527215e76f60",
   "metadata": {},
   "outputs": [],
   "source": [
    "s5={20,3,23,224,43,456,789,'abc'}"
   ]
  },
  {
   "cell_type": "code",
   "execution_count": 37,
   "id": "3d592d0c-c4e8-4dd1-a703-d937ad231176",
   "metadata": {},
   "outputs": [
    {
     "data": {
      "text/plain": [
       "{20, 224, 23, 3, 43, 456, 789, 'abc'}"
      ]
     },
     "execution_count": 37,
     "metadata": {},
     "output_type": "execute_result"
    }
   ],
   "source": [
    "s5 #set does not arrange data"
   ]
  },
  {
   "cell_type": "code",
   "execution_count": 40,
   "id": "df85f9a9-774a-456c-8d5d-c8413e7407a2",
   "metadata": {},
   "outputs": [],
   "source": [
    "s5.add(9)"
   ]
  },
  {
   "cell_type": "markdown",
   "id": "0d4f598e-2721-489d-b49a-f3ed7a64b62b",
   "metadata": {},
   "source": [
    "##### "
   ]
  },
  {
   "cell_type": "code",
   "execution_count": 41,
   "id": "2499c685-99e1-4b66-99e6-1e7a4373a8fe",
   "metadata": {},
   "outputs": [
    {
     "data": {
      "text/plain": [
       "{20, 224, 23, 3, 43, 456, 789, 9, 'abc'}"
      ]
     },
     "execution_count": 41,
     "metadata": {},
     "output_type": "execute_result"
    }
   ],
   "source": [
    "s5"
   ]
  },
  {
   "cell_type": "code",
   "execution_count": 42,
   "id": "51b917aa-8aaf-4803-9b90-a814b58b770a",
   "metadata": {},
   "outputs": [],
   "source": [
    "s6={1,2,3,4}"
   ]
  },
  {
   "cell_type": "code",
   "execution_count": 51,
   "id": "c5245d9f-67a4-47cc-9309-ab9df7ba0b32",
   "metadata": {},
   "outputs": [
    {
     "data": {
      "text/plain": [
       "{1, 2, 3, 4}"
      ]
     },
     "execution_count": 51,
     "metadata": {},
     "output_type": "execute_result"
    }
   ],
   "source": [
    "s6"
   ]
  },
  {
   "cell_type": "code",
   "execution_count": 50,
   "id": "38a235e8-2d13-4fce-95e5-fa3734d953ae",
   "metadata": {},
   "outputs": [
    {
     "ename": "NameError",
     "evalue": "name 's7' is not defined",
     "output_type": "error",
     "traceback": [
      "\u001b[0;31m---------------------------------------------------------------------------\u001b[0m",
      "\u001b[0;31mNameError\u001b[0m                                 Traceback (most recent call last)",
      "Cell \u001b[0;32mIn[50], line 1\u001b[0m\n\u001b[0;32m----> 1\u001b[0m \u001b[43ms7\u001b[49m\n",
      "\u001b[0;31mNameError\u001b[0m: name 's7' is not defined"
     ]
    }
   ],
   "source": []
  },
  {
   "cell_type": "code",
   "execution_count": null,
   "id": "1ffd76c5-a298-42df-af2c-e17ecb12a051",
   "metadata": {},
   "outputs": [],
   "source": []
  }
 ],
 "metadata": {
  "kernelspec": {
   "display_name": "Python 3 (ipykernel)",
   "language": "python",
   "name": "python3"
  },
  "language_info": {
   "codemirror_mode": {
    "name": "ipython",
    "version": 3
   },
   "file_extension": ".py",
   "mimetype": "text/x-python",
   "name": "python",
   "nbconvert_exporter": "python",
   "pygments_lexer": "ipython3",
   "version": "3.10.8"
  }
 },
 "nbformat": 4,
 "nbformat_minor": 5
}
