{
 "cells": [
  {
   "cell_type": "code",
   "execution_count": 1,
   "id": "49ab4909-c6ed-47a9-bd79-ad3160a43cb2",
   "metadata": {},
   "outputs": [],
   "source": [
    "A=[10,20.8,'sonu',True]"
   ]
  },
  {
   "cell_type": "code",
   "execution_count": 2,
   "id": "4b112694-16c7-447b-afc8-7edc3237892e",
   "metadata": {},
   "outputs": [
    {
     "name": "stdout",
     "output_type": "stream",
     "text": [
      "[10, 20.8, 'sonu', True]\n"
     ]
    }
   ],
   "source": [
    "print(A)"
   ]
  },
  {
   "cell_type": "code",
   "execution_count": 3,
   "id": "d68974bf-36e9-4633-bc1f-dfa6ff2443af",
   "metadata": {},
   "outputs": [
    {
     "data": {
      "text/plain": [
       "list"
      ]
     },
     "execution_count": 3,
     "metadata": {},
     "output_type": "execute_result"
    }
   ],
   "source": [
    "type(A)"
   ]
  },
  {
   "cell_type": "code",
   "execution_count": 5,
   "id": "f441bc1c-ecdd-4b4f-95fa-726470441cfe",
   "metadata": {},
   "outputs": [
    {
     "data": {
      "text/plain": [
       "10"
      ]
     },
     "execution_count": 5,
     "metadata": {},
     "output_type": "execute_result"
    }
   ],
   "source": [
    "A[0]"
   ]
  },
  {
   "cell_type": "code",
   "execution_count": 7,
   "id": "29587c6d-19f0-449e-9e52-3acfa47d3366",
   "metadata": {},
   "outputs": [
    {
     "data": {
      "text/plain": [
       "'sonu'"
      ]
     },
     "execution_count": 7,
     "metadata": {},
     "output_type": "execute_result"
    }
   ],
   "source": [
    "A[2]"
   ]
  },
  {
   "cell_type": "code",
   "execution_count": 8,
   "id": "27023ebc-5385-4405-926d-37db40e772e6",
   "metadata": {},
   "outputs": [
    {
     "data": {
      "text/plain": [
       "[10, 20.8]"
      ]
     },
     "execution_count": 8,
     "metadata": {},
     "output_type": "execute_result"
    }
   ],
   "source": [
    "A[0:2] #Slicing"
   ]
  },
  {
   "cell_type": "code",
   "execution_count": 9,
   "id": "249ce623-de9a-485d-a042-3e8aef7e9e18",
   "metadata": {},
   "outputs": [
    {
     "data": {
      "text/plain": [
       "True"
      ]
     },
     "execution_count": 9,
     "metadata": {},
     "output_type": "execute_result"
    }
   ],
   "source": [
    "A[-1] #Reverse slicing"
   ]
  },
  {
   "cell_type": "code",
   "execution_count": 10,
   "id": "24ee3137-86d1-4611-a331-cb0499fad520",
   "metadata": {},
   "outputs": [
    {
     "data": {
      "text/plain": [
       "[True, 'sonu', 20.8, 10]"
      ]
     },
     "execution_count": 10,
     "metadata": {},
     "output_type": "execute_result"
    }
   ],
   "source": [
    "A[::-1] # reverse of list"
   ]
  },
  {
   "cell_type": "code",
   "execution_count": 12,
   "id": "b54d2c32-f4f0-4eb5-abd7-73a5f2a0362d",
   "metadata": {},
   "outputs": [
    {
     "data": {
      "text/plain": [
       "[10, 'sonu']"
      ]
     },
     "execution_count": 12,
     "metadata": {},
     "output_type": "execute_result"
    }
   ],
   "source": [
    "A[0::2] #Even index print"
   ]
  },
  {
   "cell_type": "code",
   "execution_count": 13,
   "id": "e6a8e766-b02a-42ef-a9ae-60ee24a1c00d",
   "metadata": {},
   "outputs": [
    {
     "data": {
      "text/plain": [
       "[10, 20.8, 'sonu', True]"
      ]
     },
     "execution_count": 13,
     "metadata": {},
     "output_type": "execute_result"
    }
   ],
   "source": [
    "A"
   ]
  },
  {
   "cell_type": "code",
   "execution_count": 14,
   "id": "4a70592c-eb04-4636-975b-231f5a9cfd09",
   "metadata": {},
   "outputs": [],
   "source": [
    "s='pwskills'"
   ]
  },
  {
   "cell_type": "code",
   "execution_count": 16,
   "id": "5c047a75-0c38-4ce1-b169-b42072d028b2",
   "metadata": {},
   "outputs": [
    {
     "data": {
      "text/plain": [
       "['p', 'w', 's', 'k', 'i', 'l', 'l', 's']"
      ]
     },
     "execution_count": 16,
     "metadata": {},
     "output_type": "execute_result"
    }
   ],
   "source": [
    "list(s)"
   ]
  },
  {
   "cell_type": "code",
   "execution_count": 17,
   "id": "6fc595f8-8d88-41db-b4b9-bf3f63ad1ce3",
   "metadata": {},
   "outputs": [
    {
     "data": {
      "text/plain": [
       "['p', 'w', 's', 'k', 'i', 'l', 'l', 's', 10, 20.8, 'sonu', True]"
      ]
     },
     "execution_count": 17,
     "metadata": {},
     "output_type": "execute_result"
    }
   ],
   "source": [
    "list(s)+A"
   ]
  },
  {
   "cell_type": "code",
   "execution_count": 18,
   "id": "93dc0fab-3fae-4f18-8e4b-7a4b06dd9447",
   "metadata": {},
   "outputs": [
    {
     "data": {
      "text/plain": [
       "True"
      ]
     },
     "execution_count": 18,
     "metadata": {},
     "output_type": "execute_result"
    }
   ],
   "source": [
    "A[3]"
   ]
  },
  {
   "cell_type": "code",
   "execution_count": 19,
   "id": "d256781d-82a7-45bd-8fad-a0915ff62359",
   "metadata": {},
   "outputs": [
    {
     "data": {
      "text/plain": [
       "bool"
      ]
     },
     "execution_count": 19,
     "metadata": {},
     "output_type": "execute_result"
    }
   ],
   "source": [
    "type(A[3])"
   ]
  },
  {
   "cell_type": "code",
   "execution_count": 23,
   "id": "6e3c3525-fb5a-4124-9792-6a4de2616314",
   "metadata": {},
   "outputs": [
    {
     "data": {
      "text/plain": [
       "'so'"
      ]
     },
     "execution_count": 23,
     "metadata": {},
     "output_type": "execute_result"
    }
   ],
   "source": [
    "A[2][0:2]"
   ]
  },
  {
   "cell_type": "code",
   "execution_count": 24,
   "id": "0f84d39a-32ba-4990-9196-c59c3cab5390",
   "metadata": {},
   "outputs": [
    {
     "data": {
      "text/plain": [
       "True"
      ]
     },
     "execution_count": 24,
     "metadata": {},
     "output_type": "execute_result"
    }
   ],
   "source": [
    "A[3]"
   ]
  },
  {
   "cell_type": "code",
   "execution_count": 25,
   "id": "9fb1116f-403f-4581-9013-61928102cae7",
   "metadata": {},
   "outputs": [
    {
     "data": {
      "text/plain": [
       "'Tr'"
      ]
     },
     "execution_count": 25,
     "metadata": {},
     "output_type": "execute_result"
    }
   ],
   "source": [
    "str(A[3])[0:2]"
   ]
  },
  {
   "cell_type": "code",
   "execution_count": 1,
   "id": "6920c8de-379a-4794-8ed9-8129374eaed7",
   "metadata": {},
   "outputs": [],
   "source": [
    "B=['Amit','manu',15]"
   ]
  },
  {
   "cell_type": "code",
   "execution_count": 3,
   "id": "c6c6b89f-6e76-4e00-a756-5212bb391a19",
   "metadata": {},
   "outputs": [
    {
     "data": {
      "text/plain": [
       "['Amit', 'manu', 15]"
      ]
     },
     "execution_count": 3,
     "metadata": {},
     "output_type": "execute_result"
    }
   ],
   "source": [
    "B"
   ]
  },
  {
   "cell_type": "code",
   "execution_count": 6,
   "id": "fa408fad-8bbb-4950-9351-ad7ea57a11e8",
   "metadata": {},
   "outputs": [],
   "source": [
    "A=[10,20.8,'sonu',True]"
   ]
  },
  {
   "cell_type": "code",
   "execution_count": 7,
   "id": "9f5e1f58-0ee7-49b3-b507-c9b146bf73f5",
   "metadata": {},
   "outputs": [
    {
     "data": {
      "text/plain": [
       "[10, 20.8, 'sonu', True]"
      ]
     },
     "execution_count": 7,
     "metadata": {},
     "output_type": "execute_result"
    }
   ],
   "source": [
    "A"
   ]
  },
  {
   "cell_type": "code",
   "execution_count": 8,
   "id": "139a2913-13e2-4c99-831b-916149dc6093",
   "metadata": {},
   "outputs": [
    {
     "data": {
      "text/plain": [
       "[10, 20.8, 'sonu', True, 'Amit', 'manu', 15]"
      ]
     },
     "execution_count": 8,
     "metadata": {},
     "output_type": "execute_result"
    }
   ],
   "source": [
    "A+B"
   ]
  },
  {
   "cell_type": "code",
   "execution_count": 9,
   "id": "cccb5aed-3c40-4eb8-ba89-107b67d4f736",
   "metadata": {},
   "outputs": [
    {
     "data": {
      "text/plain": [
       "['Amit', 'manu', 15, 'Amit', 'manu', 15]"
      ]
     },
     "execution_count": 9,
     "metadata": {},
     "output_type": "execute_result"
    }
   ],
   "source": [
    "B*2"
   ]
  },
  {
   "cell_type": "code",
   "execution_count": 10,
   "id": "487cafdb-aa30-4992-9788-5e19b717032b",
   "metadata": {},
   "outputs": [
    {
     "data": {
      "text/plain": [
       "[10, 20.8, 'sonu', True]"
      ]
     },
     "execution_count": 10,
     "metadata": {},
     "output_type": "execute_result"
    }
   ],
   "source": [
    "A"
   ]
  },
  {
   "cell_type": "code",
   "execution_count": 11,
   "id": "6a0ca0f4-6d6d-4f82-bf2c-99b3a50f0f0a",
   "metadata": {},
   "outputs": [
    {
     "data": {
      "text/plain": [
       "4"
      ]
     },
     "execution_count": 11,
     "metadata": {},
     "output_type": "execute_result"
    }
   ],
   "source": [
    "len(A)"
   ]
  },
  {
   "cell_type": "code",
   "execution_count": 12,
   "id": "1dc9c1ec-1ff5-420b-ba40-6e38411a1fa2",
   "metadata": {},
   "outputs": [],
   "source": [
    "A.append(7) #INSRT end of the list"
   ]
  },
  {
   "cell_type": "code",
   "execution_count": 13,
   "id": "3e9dc263-a2cd-405d-aed3-49a3c7d67886",
   "metadata": {},
   "outputs": [
    {
     "data": {
      "text/plain": [
       "[10, 20.8, 'sonu', True, 7]"
      ]
     },
     "execution_count": 13,
     "metadata": {},
     "output_type": "execute_result"
    }
   ],
   "source": [
    "A"
   ]
  },
  {
   "cell_type": "code",
   "execution_count": 16,
   "id": "cc8a54f8-065c-4a27-a24d-725d1d4c4b56",
   "metadata": {},
   "outputs": [],
   "source": [
    "s='pwskills'"
   ]
  },
  {
   "cell_type": "code",
   "execution_count": 17,
   "id": "957a85ae-18cb-4982-bccf-702354600c88",
   "metadata": {},
   "outputs": [
    {
     "data": {
      "text/plain": [
       "'pwskills'"
      ]
     },
     "execution_count": 17,
     "metadata": {},
     "output_type": "execute_result"
    }
   ],
   "source": [
    "s"
   ]
  },
  {
   "cell_type": "code",
   "execution_count": 18,
   "id": "ef76017d-af2e-4e62-80b0-81f72aa1b423",
   "metadata": {},
   "outputs": [],
   "source": [
    "A.append(s)"
   ]
  },
  {
   "cell_type": "code",
   "execution_count": 19,
   "id": "d3b4a05d-9a25-4300-9581-8aff204b649d",
   "metadata": {},
   "outputs": [
    {
     "data": {
      "text/plain": [
       "'pwskills'"
      ]
     },
     "execution_count": 19,
     "metadata": {},
     "output_type": "execute_result"
    }
   ],
   "source": [
    "s"
   ]
  },
  {
   "cell_type": "code",
   "execution_count": 20,
   "id": "b7dc1204-16ce-47e1-942e-ab028cdc5c18",
   "metadata": {},
   "outputs": [
    {
     "data": {
      "text/plain": [
       "[10, 20.8, 'sonu', True, 7, ['Amit', 'manu', 15], 'pwskills']"
      ]
     },
     "execution_count": 20,
     "metadata": {},
     "output_type": "execute_result"
    }
   ],
   "source": [
    "A"
   ]
  },
  {
   "cell_type": "code",
   "execution_count": 21,
   "id": "fb1ac87d-9388-471e-b487-33a78e133bf0",
   "metadata": {},
   "outputs": [],
   "source": [
    "A.append(B)"
   ]
  },
  {
   "cell_type": "code",
   "execution_count": 22,
   "id": "dab10c4c-6a06-4720-a05a-82df50e507fc",
   "metadata": {},
   "outputs": [
    {
     "data": {
      "text/plain": [
       "[10,\n",
       " 20.8,\n",
       " 'sonu',\n",
       " True,\n",
       " 7,\n",
       " ['Amit', 'manu', 15],\n",
       " 'pwskills',\n",
       " ['Amit', 'manu', 15]]"
      ]
     },
     "execution_count": 22,
     "metadata": {},
     "output_type": "execute_result"
    }
   ],
   "source": [
    "A"
   ]
  },
  {
   "cell_type": "code",
   "execution_count": 23,
   "id": "d38b9890-cd77-4360-a7c3-1d40ca49604e",
   "metadata": {},
   "outputs": [
    {
     "data": {
      "text/plain": [
       "['Amit', 'manu', 15]"
      ]
     },
     "execution_count": 23,
     "metadata": {},
     "output_type": "execute_result"
    }
   ],
   "source": [
    "A[-1]"
   ]
  },
  {
   "cell_type": "code",
   "execution_count": 24,
   "id": "9d68c591-9a5e-43d8-8892-c7d5383560a7",
   "metadata": {},
   "outputs": [
    {
     "data": {
      "text/plain": [
       "'manu'"
      ]
     },
     "execution_count": 24,
     "metadata": {},
     "output_type": "execute_result"
    }
   ],
   "source": [
    "A[-1][1]"
   ]
  },
  {
   "cell_type": "code",
   "execution_count": 25,
   "id": "5f655846-a2cd-45c5-bca7-b2bb104e7527",
   "metadata": {},
   "outputs": [
    {
     "data": {
      "text/plain": [
       "[10,\n",
       " 20.8,\n",
       " 'sonu',\n",
       " True,\n",
       " 7,\n",
       " ['Amit', 'manu', 15],\n",
       " 'pwskills',\n",
       " ['Amit', 'manu', 15]]"
      ]
     },
     "execution_count": 25,
     "metadata": {},
     "output_type": "execute_result"
    }
   ],
   "source": [
    "A"
   ]
  },
  {
   "cell_type": "code",
   "execution_count": 26,
   "id": "46d9c21b-e845-4bc2-98d4-9a00da4c38c0",
   "metadata": {},
   "outputs": [],
   "source": [
    "A.extend('tanya')"
   ]
  },
  {
   "cell_type": "code",
   "execution_count": 27,
   "id": "476f94d7-bab1-447a-9925-39cbe61ee598",
   "metadata": {},
   "outputs": [
    {
     "data": {
      "text/plain": [
       "[10,\n",
       " 20.8,\n",
       " 'sonu',\n",
       " True,\n",
       " 7,\n",
       " ['Amit', 'manu', 15],\n",
       " 'pwskills',\n",
       " ['Amit', 'manu', 15],\n",
       " 't',\n",
       " 'a',\n",
       " 'n',\n",
       " 'y',\n",
       " 'a']"
      ]
     },
     "execution_count": 27,
     "metadata": {},
     "output_type": "execute_result"
    }
   ],
   "source": [
    "A"
   ]
  },
  {
   "cell_type": "code",
   "execution_count": 28,
   "id": "3dcd9ba1-9fb7-49be-9de6-962dd3325ce2",
   "metadata": {},
   "outputs": [],
   "source": [
    "A.extend([9,8,7])"
   ]
  },
  {
   "cell_type": "code",
   "execution_count": 29,
   "id": "07413ae0-5712-4b20-b67c-5bc8f1a7e5d5",
   "metadata": {},
   "outputs": [
    {
     "data": {
      "text/plain": [
       "[10,\n",
       " 20.8,\n",
       " 'sonu',\n",
       " True,\n",
       " 7,\n",
       " ['Amit', 'manu', 15],\n",
       " 'pwskills',\n",
       " ['Amit', 'manu', 15],\n",
       " 't',\n",
       " 'a',\n",
       " 'n',\n",
       " 'y',\n",
       " 'a',\n",
       " 9,\n",
       " 8,\n",
       " 7]"
      ]
     },
     "execution_count": 29,
     "metadata": {},
     "output_type": "execute_result"
    }
   ],
   "source": [
    "A"
   ]
  },
  {
   "cell_type": "code",
   "execution_count": 30,
   "id": "208956fd-2d03-4518-9aca-65a26125016d",
   "metadata": {},
   "outputs": [
    {
     "data": {
      "text/plain": [
       "['Amit', 'manu', 15]"
      ]
     },
     "execution_count": 30,
     "metadata": {},
     "output_type": "execute_result"
    }
   ],
   "source": [
    "B"
   ]
  },
  {
   "cell_type": "code",
   "execution_count": 32,
   "id": "6332a3ef-d02e-4362-9753-a1d580346402",
   "metadata": {},
   "outputs": [],
   "source": [
    "B.insert(1,'sonu')"
   ]
  },
  {
   "cell_type": "code",
   "execution_count": 33,
   "id": "5da53b8b-198f-438c-8343-2667acbb2290",
   "metadata": {},
   "outputs": [
    {
     "data": {
      "text/plain": [
       "['Amit', 'sonu', 'manu', 15]"
      ]
     },
     "execution_count": 33,
     "metadata": {},
     "output_type": "execute_result"
    }
   ],
   "source": [
    "B"
   ]
  },
  {
   "cell_type": "code",
   "execution_count": 34,
   "id": "099ef9fb-624c-4f0e-81ef-27cf15358329",
   "metadata": {},
   "outputs": [],
   "source": [
    "B.insert(2,[1,2,3])"
   ]
  },
  {
   "cell_type": "code",
   "execution_count": 35,
   "id": "9a7ff31a-8456-41af-857e-699fe5299513",
   "metadata": {},
   "outputs": [
    {
     "data": {
      "text/plain": [
       "['Amit', 'sonu', [1, 2, 3], 'manu', 15]"
      ]
     },
     "execution_count": 35,
     "metadata": {},
     "output_type": "execute_result"
    }
   ],
   "source": [
    "B"
   ]
  },
  {
   "cell_type": "code",
   "execution_count": 36,
   "id": "9cfd845b-bccb-44e9-98e7-c20557d570fb",
   "metadata": {},
   "outputs": [],
   "source": [
    "B.insert(-1,45)"
   ]
  },
  {
   "cell_type": "code",
   "execution_count": 37,
   "id": "26bb9ebf-1336-4948-8d5d-292dbb64a0af",
   "metadata": {},
   "outputs": [
    {
     "data": {
      "text/plain": [
       "['Amit', 'sonu', [1, 2, 3], 'manu', 45, 15]"
      ]
     },
     "execution_count": 37,
     "metadata": {},
     "output_type": "execute_result"
    }
   ],
   "source": [
    "B"
   ]
  },
  {
   "cell_type": "code",
   "execution_count": 38,
   "id": "8b995daf-cd36-4f91-b77b-b5ed90a9f1b2",
   "metadata": {},
   "outputs": [
    {
     "data": {
      "text/plain": [
       "15"
      ]
     },
     "execution_count": 38,
     "metadata": {},
     "output_type": "execute_result"
    }
   ],
   "source": [
    "B.pop() #Delete in last index"
   ]
  },
  {
   "cell_type": "code",
   "execution_count": 39,
   "id": "d35a8373-f56f-41df-9a4a-d5c9a5186203",
   "metadata": {},
   "outputs": [
    {
     "data": {
      "text/plain": [
       "['Amit', 'sonu', [1, 2, 3], 'manu', 45]"
      ]
     },
     "execution_count": 39,
     "metadata": {},
     "output_type": "execute_result"
    }
   ],
   "source": [
    "B"
   ]
  },
  {
   "cell_type": "code",
   "execution_count": 40,
   "id": "69ecc5b3-c2c5-412e-a1c2-85eb8828309b",
   "metadata": {},
   "outputs": [
    {
     "data": {
      "text/plain": [
       "'manu'"
      ]
     },
     "execution_count": 40,
     "metadata": {},
     "output_type": "execute_result"
    }
   ],
   "source": [
    "B.pop(3)"
   ]
  },
  {
   "cell_type": "code",
   "execution_count": 41,
   "id": "a5888c23-2705-4319-8371-feeb891ca54d",
   "metadata": {},
   "outputs": [
    {
     "data": {
      "text/plain": [
       "['Amit', 'sonu', [1, 2, 3], 45]"
      ]
     },
     "execution_count": 41,
     "metadata": {},
     "output_type": "execute_result"
    }
   ],
   "source": [
    "B"
   ]
  },
  {
   "cell_type": "code",
   "execution_count": 43,
   "id": "2a7b629b-d0d1-4bb2-a128-c842fdc7adea",
   "metadata": {},
   "outputs": [],
   "source": [
    "B.remove('sonu') # Remove used to delete value"
   ]
  },
  {
   "cell_type": "code",
   "execution_count": 44,
   "id": "0da202c2-1c82-4914-a4ee-0382cb137a75",
   "metadata": {},
   "outputs": [
    {
     "data": {
      "text/plain": [
       "['Amit', [1, 2, 3], 45]"
      ]
     },
     "execution_count": 44,
     "metadata": {},
     "output_type": "execute_result"
    }
   ],
   "source": [
    "B"
   ]
  },
  {
   "cell_type": "code",
   "execution_count": 47,
   "id": "4313d7e2-6f11-47bc-a356-548cec8998f9",
   "metadata": {},
   "outputs": [],
   "source": [
    "B[1].remove(3)# Remove list in list value"
   ]
  },
  {
   "cell_type": "code",
   "execution_count": 48,
   "id": "22241524-61dc-4306-87c5-5340695d505b",
   "metadata": {},
   "outputs": [
    {
     "data": {
      "text/plain": [
       "['Amit', [1, 2], 45]"
      ]
     },
     "execution_count": 48,
     "metadata": {},
     "output_type": "execute_result"
    }
   ],
   "source": [
    "B"
   ]
  },
  {
   "cell_type": "code",
   "execution_count": 49,
   "id": "fcfd9822-66ba-442e-bf8c-cd4195a9567f",
   "metadata": {},
   "outputs": [
    {
     "data": {
      "text/plain": [
       "[45, [1, 2], 'Amit']"
      ]
     },
     "execution_count": 49,
     "metadata": {},
     "output_type": "execute_result"
    }
   ],
   "source": [
    "B[::-1]  #reverse the list"
   ]
  },
  {
   "cell_type": "code",
   "execution_count": 51,
   "id": "cd9c18b8-5532-435d-aeba-0c4918fbf455",
   "metadata": {},
   "outputs": [],
   "source": [
    "B.reverse() #Permanent reverse of list"
   ]
  },
  {
   "cell_type": "code",
   "execution_count": 52,
   "id": "2585583d-b4ae-4c29-a100-ba393b22455b",
   "metadata": {},
   "outputs": [
    {
     "data": {
      "text/plain": [
       "[45, [1, 2], 'Amit']"
      ]
     },
     "execution_count": 52,
     "metadata": {},
     "output_type": "execute_result"
    }
   ],
   "source": [
    "B"
   ]
  },
  {
   "cell_type": "code",
   "execution_count": 53,
   "id": "b7b2b756-c5e5-4491-ab4c-4a225cad84e8",
   "metadata": {},
   "outputs": [],
   "source": [
    "B.reverse()"
   ]
  },
  {
   "cell_type": "code",
   "execution_count": 54,
   "id": "ef39ea28-6ec4-4fb1-b198-9195a7494653",
   "metadata": {},
   "outputs": [
    {
     "data": {
      "text/plain": [
       "['Amit', [1, 2], 45]"
      ]
     },
     "execution_count": 54,
     "metadata": {},
     "output_type": "execute_result"
    }
   ],
   "source": [
    "B"
   ]
  },
  {
   "cell_type": "code",
   "execution_count": 55,
   "id": "439e7958-49ca-42a1-8bd6-6fda096d40a1",
   "metadata": {},
   "outputs": [],
   "source": [
    "c=[9,4,8,1,0,98,3,]"
   ]
  },
  {
   "cell_type": "code",
   "execution_count": 56,
   "id": "1dc31986-7cdf-4c5b-b21b-64e3f1895f69",
   "metadata": {},
   "outputs": [],
   "source": [
    "c.sort()"
   ]
  },
  {
   "cell_type": "code",
   "execution_count": 57,
   "id": "b075507b-0469-41d9-9952-aea0c01ea852",
   "metadata": {},
   "outputs": [
    {
     "data": {
      "text/plain": [
       "[0, 1, 3, 4, 8, 9, 98]"
      ]
     },
     "execution_count": 57,
     "metadata": {},
     "output_type": "execute_result"
    }
   ],
   "source": [
    "c"
   ]
  },
  {
   "cell_type": "code",
   "execution_count": 58,
   "id": "38ab234d-e18e-44ff-996e-44eb74104ea4",
   "metadata": {},
   "outputs": [],
   "source": [
    "d=['sonu','amit','tanya','manu']"
   ]
  },
  {
   "cell_type": "code",
   "execution_count": 59,
   "id": "c211905e-45e1-4fc4-aff2-85e7117b24c4",
   "metadata": {},
   "outputs": [],
   "source": [
    "d.sort()"
   ]
  },
  {
   "cell_type": "code",
   "execution_count": 60,
   "id": "f53b9a32-0bbc-4395-858a-3b6b71a7955b",
   "metadata": {},
   "outputs": [
    {
     "data": {
      "text/plain": [
       "['amit', 'manu', 'sonu', 'tanya']"
      ]
     },
     "execution_count": 60,
     "metadata": {},
     "output_type": "execute_result"
    }
   ],
   "source": [
    "d"
   ]
  },
  {
   "cell_type": "code",
   "execution_count": 61,
   "id": "e319938d-539d-42dc-beeb-b3b2ef4af956",
   "metadata": {},
   "outputs": [],
   "source": [
    "d.sort(reverse=True)  #sorting desending order"
   ]
  },
  {
   "cell_type": "code",
   "execution_count": 62,
   "id": "25855f22-cac3-4828-9321-26a04b75edae",
   "metadata": {},
   "outputs": [
    {
     "data": {
      "text/plain": [
       "['tanya', 'sonu', 'manu', 'amit']"
      ]
     },
     "execution_count": 62,
     "metadata": {},
     "output_type": "execute_result"
    }
   ],
   "source": [
    "d"
   ]
  },
  {
   "cell_type": "code",
   "execution_count": 65,
   "id": "908693ac-660a-47aa-bc31-6e01254b06e0",
   "metadata": {},
   "outputs": [
    {
     "data": {
      "text/plain": [
       "2"
      ]
     },
     "execution_count": 65,
     "metadata": {},
     "output_type": "execute_result"
    }
   ],
   "source": [
    "d.index('manu')"
   ]
  },
  {
   "cell_type": "code",
   "execution_count": 64,
   "id": "913c25cc-3b0e-49b5-8e8a-364ddbc42e72",
   "metadata": {},
   "outputs": [
    {
     "data": {
      "text/plain": [
       "1"
      ]
     },
     "execution_count": 64,
     "metadata": {},
     "output_type": "execute_result"
    }
   ],
   "source": [
    "d.count('sonu')"
   ]
  },
  {
   "cell_type": "code",
   "execution_count": 66,
   "id": "a11224a2-938f-4738-8958-d0b72ea003fa",
   "metadata": {},
   "outputs": [],
   "source": [
    "p='sudh'"
   ]
  },
  {
   "cell_type": "code",
   "execution_count": 67,
   "id": "b425d99b-5803-488a-8e1d-3a2f4148e8f7",
   "metadata": {},
   "outputs": [],
   "source": [
    "m=[1,2,3,4]"
   ]
  },
  {
   "cell_type": "code",
   "execution_count": 69,
   "id": "c7c57a33-ffa6-4ed0-a214-751d3079a8ca",
   "metadata": {},
   "outputs": [
    {
     "data": {
      "text/plain": [
       "'s'"
      ]
     },
     "execution_count": 69,
     "metadata": {},
     "output_type": "execute_result"
    }
   ],
   "source": [
    "p[0]"
   ]
  },
  {
   "cell_type": "code",
   "execution_count": 70,
   "id": "156df05e-4ebf-4e3d-bfb8-17df5ec10e97",
   "metadata": {},
   "outputs": [],
   "source": [
    "m[0]=30"
   ]
  },
  {
   "cell_type": "code",
   "execution_count": 71,
   "id": "14cbd094-7cf6-4ddc-9057-8bc504006b56",
   "metadata": {},
   "outputs": [
    {
     "data": {
      "text/plain": [
       "[30, 2, 3, 4]"
      ]
     },
     "execution_count": 71,
     "metadata": {},
     "output_type": "execute_result"
    }
   ],
   "source": [
    "m"
   ]
  },
  {
   "cell_type": "code",
   "execution_count": 72,
   "id": "b339342a-f964-4572-979c-9b928976cd58",
   "metadata": {},
   "outputs": [],
   "source": [
    "#string are inmutable in list"
   ]
  },
  {
   "cell_type": "code",
   "execution_count": 73,
   "id": "170d7f1e-5fb9-4dd2-8b69-b0f41c5277f5",
   "metadata": {},
   "outputs": [
    {
     "data": {
      "text/plain": [
       "'sudh'"
      ]
     },
     "execution_count": 73,
     "metadata": {},
     "output_type": "execute_result"
    }
   ],
   "source": [
    "p\n"
   ]
  },
  {
   "cell_type": "code",
   "execution_count": 74,
   "id": "04d10901-7133-4463-89e3-ead594bfcc0e",
   "metadata": {},
   "outputs": [
    {
     "data": {
      "text/plain": [
       "'audh'"
      ]
     },
     "execution_count": 74,
     "metadata": {},
     "output_type": "execute_result"
    }
   ],
   "source": [
    "p.replace('s','a')"
   ]
  },
  {
   "cell_type": "code",
   "execution_count": 75,
   "id": "1567553b-af06-4720-823f-4de7eac6c645",
   "metadata": {},
   "outputs": [
    {
     "data": {
      "text/plain": [
       "'sudh'"
      ]
     },
     "execution_count": 75,
     "metadata": {},
     "output_type": "execute_result"
    }
   ],
   "source": [
    "p"
   ]
  },
  {
   "cell_type": "code",
   "execution_count": null,
   "id": "70c47cc4-ead9-4b44-9ec0-86310b37a17b",
   "metadata": {},
   "outputs": [],
   "source": []
  }
 ],
 "metadata": {
  "kernelspec": {
   "display_name": "Python 3 (ipykernel)",
   "language": "python",
   "name": "python3"
  },
  "language_info": {
   "codemirror_mode": {
    "name": "ipython",
    "version": 3
   },
   "file_extension": ".py",
   "mimetype": "text/x-python",
   "name": "python",
   "nbconvert_exporter": "python",
   "pygments_lexer": "ipython3",
   "version": "3.10.8"
  }
 },
 "nbformat": 4,
 "nbformat_minor": 5
}
