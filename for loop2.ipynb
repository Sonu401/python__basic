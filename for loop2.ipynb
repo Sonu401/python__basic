{
 "cells": [
  {
   "cell_type": "code",
   "execution_count": 1,
   "id": "508811fe-96d0-41f4-ba16-e14261b6e107",
   "metadata": {},
   "outputs": [],
   "source": [
    "sonu=[1,2,3,4,5]"
   ]
  },
  {
   "cell_type": "code",
   "execution_count": 3,
   "id": "11e248dc-786b-4c3b-afea-f30a20839901",
   "metadata": {},
   "outputs": [
    {
     "name": "stdout",
     "output_type": "stream",
     "text": [
      "1 <class 'int'>\n",
      "2 <class 'int'>\n",
      "3 <class 'int'>\n",
      "4 <class 'int'>\n",
      "5 <class 'int'>\n"
     ]
    }
   ],
   "source": [
    "for i in sonu:\n",
    "    print(i, type(i))"
   ]
  },
  {
   "cell_type": "code",
   "execution_count": 4,
   "id": "c4d388c0-0dab-4a17-8c03-474f1367d205",
   "metadata": {},
   "outputs": [],
   "source": [
    "sonu1=[\"sonu\",\"manu\",\"amit\"]"
   ]
  },
  {
   "cell_type": "code",
   "execution_count": 5,
   "id": "b3f3a609-b925-476e-bab4-eae27939ac95",
   "metadata": {},
   "outputs": [
    {
     "name": "stdout",
     "output_type": "stream",
     "text": [
      "sonu <class 'str'>\n",
      "manu <class 'str'>\n",
      "amit <class 'str'>\n"
     ]
    }
   ],
   "source": [
    "for i in sonu1:\n",
    "    print(i,type(i))"
   ]
  },
  {
   "cell_type": "code",
   "execution_count": 6,
   "id": "bf152ed4-5231-4a87-a7c4-1db0f10aadfc",
   "metadata": {},
   "outputs": [
    {
     "data": {
      "text/plain": [
       "['sonu', 'manu', 'amit']"
      ]
     },
     "execution_count": 6,
     "metadata": {},
     "output_type": "execute_result"
    }
   ],
   "source": [
    "sonu1"
   ]
  },
  {
   "cell_type": "code",
   "execution_count": 8,
   "id": "4c1e2421-7fec-4394-ac7e-2673f426614c",
   "metadata": {},
   "outputs": [
    {
     "name": "stdout",
     "output_type": "stream",
     "text": [
      "sonu\n",
      "manu\n",
      "amit\n",
      "do something\n"
     ]
    }
   ],
   "source": [
    "for i in sonu1:\n",
    "    print(i)\n",
    "else:\n",
    "    print(\"do something\")"
   ]
  },
  {
   "cell_type": "code",
   "execution_count": 9,
   "id": "8bf5a4cb-8c71-4af8-8792-6acaa833aea7",
   "metadata": {},
   "outputs": [
    {
     "name": "stdout",
     "output_type": "stream",
     "text": [
      "sonu\n",
      "manu\n",
      "amit\n",
      "if for loop is able to complete itself then only else will execute\n"
     ]
    }
   ],
   "source": [
    "for i in sonu1:\n",
    "    print(i)\n",
    "else:\n",
    "    print(\"if for loop is able to complete itself then only else will execute\")"
   ]
  },
  {
   "cell_type": "code",
   "execution_count": 11,
   "id": "707951a2-ca8f-48d7-80d7-eec3db7c4746",
   "metadata": {},
   "outputs": [
    {
     "data": {
      "text/plain": [
       "['sonu', 'manu', 'amit']"
      ]
     },
     "execution_count": 11,
     "metadata": {},
     "output_type": "execute_result"
    }
   ],
   "source": [
    "sonu1"
   ]
  },
  {
   "cell_type": "code",
   "execution_count": 17,
   "id": "a5d85722-56bf-4ea9-8898-de8b61162c3d",
   "metadata": {},
   "outputs": [
    {
     "name": "stdout",
     "output_type": "stream",
     "text": [
      "sonu\n"
     ]
    }
   ],
   "source": [
    "for i in sonu1:\n",
    "    if i == \"manu\":\n",
    "        break\n",
    "    print(i)"
   ]
  },
  {
   "cell_type": "code",
   "execution_count": 18,
   "id": "d8e76f23-85a2-42bd-b9e8-869c9a4846bd",
   "metadata": {},
   "outputs": [
    {
     "data": {
      "text/plain": [
       "['sonu', 'manu', 'amit']"
      ]
     },
     "execution_count": 18,
     "metadata": {},
     "output_type": "execute_result"
    }
   ],
   "source": [
    "sonu1"
   ]
  },
  {
   "cell_type": "code",
   "execution_count": 19,
   "id": "2ee3d39c-6f83-4c8e-b5eb-c812fefed55e",
   "metadata": {},
   "outputs": [
    {
     "name": "stdout",
     "output_type": "stream",
     "text": [
      "sonu\n"
     ]
    }
   ],
   "source": [
    "for i in sonu1:\n",
    "    if i == \"manu\":\n",
    "        break\n",
    "    print(i)\n",
    "else:\n",
    "    print(\"execute this if for loop is able to complete itself\")"
   ]
  },
  {
   "cell_type": "code",
   "execution_count": 20,
   "id": "4e837809-4901-4d74-bfdf-2072309feb9b",
   "metadata": {},
   "outputs": [
    {
     "name": "stdout",
     "output_type": "stream",
     "text": [
      "sonu\n",
      "amit\n",
      "execute this if for loop is able to complete itself\n"
     ]
    }
   ],
   "source": [
    "for i in sonu1:\n",
    "    if i == \"manu\":\n",
    "        continue\n",
    "    print(i)\n",
    "else:\n",
    "    print(\"execute this if for loop is able to complete itself\")"
   ]
  },
  {
   "cell_type": "code",
   "execution_count": 3,
   "id": "0cc7f1be-da0e-4af5-83e4-21396d7c9267",
   "metadata": {},
   "outputs": [],
   "source": [
    "sonu1=[\"sonu\",\"manu\",\"amit\"]"
   ]
  },
  {
   "cell_type": "code",
   "execution_count": 4,
   "id": "c025d45e-ef12-4050-9937-6ec87669268f",
   "metadata": {},
   "outputs": [
    {
     "data": {
      "text/plain": [
       "['sonu', 'manu', 'amit']"
      ]
     },
     "execution_count": 4,
     "metadata": {},
     "output_type": "execute_result"
    }
   ],
   "source": [
    "sonu1"
   ]
  },
  {
   "cell_type": "code",
   "execution_count": 6,
   "id": "bd0ea7fc-be05-4447-97ff-3e84a5c5355a",
   "metadata": {},
   "outputs": [
    {
     "name": "stdout",
     "output_type": "stream",
     "text": [
      "sonu\n",
      "amit\n"
     ]
    }
   ],
   "source": [
    "for i in sonu1:\n",
    "    if i == \"manu\":\n",
    "        continue\n",
    "    print(i)"
   ]
  },
  {
   "cell_type": "code",
   "execution_count": 7,
   "id": "968428a3-5194-4a30-a769-1321a52474a9",
   "metadata": {},
   "outputs": [
    {
     "data": {
      "text/plain": [
       "range(0, 5)"
      ]
     },
     "execution_count": 7,
     "metadata": {},
     "output_type": "execute_result"
    }
   ],
   "source": [
    "range(5)"
   ]
  },
  {
   "cell_type": "code",
   "execution_count": 8,
   "id": "cced13e3-ef45-4e64-8692-94998cb7d453",
   "metadata": {},
   "outputs": [
    {
     "data": {
      "text/plain": [
       "[0, 1, 2, 3, 4]"
      ]
     },
     "execution_count": 8,
     "metadata": {},
     "output_type": "execute_result"
    }
   ],
   "source": [
    "list(range(5))"
   ]
  },
  {
   "cell_type": "code",
   "execution_count": 9,
   "id": "9cd623b0-5c53-4cf8-ae3b-fdea50dd5398",
   "metadata": {},
   "outputs": [
    {
     "data": {
      "text/plain": [
       "[0, 1, 2, 3, 4]"
      ]
     },
     "execution_count": 9,
     "metadata": {},
     "output_type": "execute_result"
    }
   ],
   "source": [
    "list(range(0,5,1))"
   ]
  },
  {
   "cell_type": "code",
   "execution_count": 13,
   "id": "1a1750a9-9b75-46f8-8249-2a3e65fe1544",
   "metadata": {},
   "outputs": [
    {
     "data": {
      "text/plain": [
       "[0, 2, 4]"
      ]
     },
     "execution_count": 13,
     "metadata": {},
     "output_type": "execute_result"
    }
   ],
   "source": [
    "list(range(0,5,2))#jump 2"
   ]
  },
  {
   "cell_type": "code",
   "execution_count": 16,
   "id": "73c8f3c8-3b9c-45fe-8555-20ae334b1b38",
   "metadata": {},
   "outputs": [
    {
     "data": {
      "text/plain": [
       "[0, 3, 6, 9, 12, 15, 18, 21, 24, 27]"
      ]
     },
     "execution_count": 16,
     "metadata": {},
     "output_type": "execute_result"
    }
   ],
   "source": [
    "list(range(0,30,3)) #jump 3"
   ]
  },
  {
   "cell_type": "code",
   "execution_count": 17,
   "id": "b4bb1855-9160-4b42-aa65-09061cdee030",
   "metadata": {},
   "outputs": [
    {
     "data": {
      "text/plain": [
       "[-10, -9, -8, -7, -6, -5, -4, -3, -2, -1]"
      ]
     },
     "execution_count": 17,
     "metadata": {},
     "output_type": "execute_result"
    }
   ],
   "source": [
    "list(range(-10,0))"
   ]
  },
  {
   "cell_type": "code",
   "execution_count": 20,
   "id": "3aef5da5-7878-4514-ba90-19b54590ee2a",
   "metadata": {},
   "outputs": [
    {
     "data": {
      "text/plain": [
       "[-10, -8, -6, -4, -2]"
      ]
     },
     "execution_count": 20,
     "metadata": {},
     "output_type": "execute_result"
    }
   ],
   "source": [
    "list(range(-10,0,2))"
   ]
  },
  {
   "cell_type": "code",
   "execution_count": 21,
   "id": "ab6df9fa-2535-483c-a8ad-88eac377d67d",
   "metadata": {},
   "outputs": [],
   "source": [
    "sonu1=[\"sonu\",\"manu\",\"amit\"]"
   ]
  },
  {
   "cell_type": "code",
   "execution_count": 22,
   "id": "114d72d6-3b18-48f1-a0b0-d5539d92ba17",
   "metadata": {},
   "outputs": [
    {
     "data": {
      "text/plain": [
       "['sonu', 'manu', 'amit']"
      ]
     },
     "execution_count": 22,
     "metadata": {},
     "output_type": "execute_result"
    }
   ],
   "source": [
    "sonu1"
   ]
  },
  {
   "cell_type": "code",
   "execution_count": 23,
   "id": "bc422efb-637a-43b2-9d64-41aae012f4fd",
   "metadata": {},
   "outputs": [
    {
     "data": {
      "text/plain": [
       "3"
      ]
     },
     "execution_count": 23,
     "metadata": {},
     "output_type": "execute_result"
    }
   ],
   "source": [
    "len(sonu1)"
   ]
  },
  {
   "cell_type": "code",
   "execution_count": 24,
   "id": "39bf0cef-df9d-4f0e-99d9-e407b1916c13",
   "metadata": {},
   "outputs": [
    {
     "data": {
      "text/plain": [
       "[0, 1, 2]"
      ]
     },
     "execution_count": 24,
     "metadata": {},
     "output_type": "execute_result"
    }
   ],
   "source": [
    "list(range(len(sonu1)))"
   ]
  },
  {
   "cell_type": "code",
   "execution_count": 25,
   "id": "28ee128d-3dfd-4141-879f-1dd546b52035",
   "metadata": {},
   "outputs": [
    {
     "name": "stdout",
     "output_type": "stream",
     "text": [
      "sonu\n",
      "manu\n",
      "amit\n"
     ]
    }
   ],
   "source": [
    "for i in range(len(sonu1)):\n",
    "    print(sonu1[i])"
   ]
  },
  {
   "cell_type": "code",
   "execution_count": 26,
   "id": "37add600-b01b-4e7a-88c4-f0a0564484e0",
   "metadata": {},
   "outputs": [
    {
     "data": {
      "text/plain": [
       "['sonu', 'manu', 'amit']"
      ]
     },
     "execution_count": 26,
     "metadata": {},
     "output_type": "execute_result"
    }
   ],
   "source": [
    "sonu1"
   ]
  },
  {
   "cell_type": "code",
   "execution_count": 33,
   "id": "3fea6898-b8de-44e4-8ef6-12e945766437",
   "metadata": {},
   "outputs": [
    {
     "data": {
      "text/plain": [
       "[3, 2, 1]"
      ]
     },
     "execution_count": 33,
     "metadata": {},
     "output_type": "execute_result"
    }
   ],
   "source": [
    "list(range(len(sonu1),0,-1))"
   ]
  },
  {
   "cell_type": "code",
   "execution_count": 31,
   "id": "6e93832e-0bde-45ae-8cd4-40ffcfb5cea2",
   "metadata": {},
   "outputs": [
    {
     "data": {
      "text/plain": [
       "['sonu', 'manu', 'amit']"
      ]
     },
     "execution_count": 31,
     "metadata": {},
     "output_type": "execute_result"
    }
   ],
   "source": [
    "sonu1"
   ]
  },
  {
   "cell_type": "code",
   "execution_count": 35,
   "id": "11207110-2340-4014-a727-1c788525b3cd",
   "metadata": {},
   "outputs": [
    {
     "name": "stdout",
     "output_type": "stream",
     "text": [
      "amit\n",
      "manu\n",
      "sonu\n"
     ]
    }
   ],
   "source": [
    "for i in range(len(sonu1)-1,-1,-1):\n",
    "    print(sonu1[i])"
   ]
  },
  {
   "cell_type": "code",
   "execution_count": 36,
   "id": "b69320dc-d07c-4cd1-b48e-f04b07575d2f",
   "metadata": {},
   "outputs": [],
   "source": [
    "sonu2=[23,56,76,98,45,21,89,11,22,33,66,88]"
   ]
  },
  {
   "cell_type": "code",
   "execution_count": 37,
   "id": "747f062d-c129-4609-a43f-9612f731eb44",
   "metadata": {},
   "outputs": [
    {
     "data": {
      "text/plain": [
       "[0, 2, 4, 6, 8, 10]"
      ]
     },
     "execution_count": 37,
     "metadata": {},
     "output_type": "execute_result"
    }
   ],
   "source": [
    "list(range(0,len(sonu2), 2)) #even index data fetch"
   ]
  },
  {
   "cell_type": "code",
   "execution_count": 38,
   "id": "acd8ef9f-8919-49bb-8310-74fd472fb8db",
   "metadata": {},
   "outputs": [
    {
     "name": "stdout",
     "output_type": "stream",
     "text": [
      "23\n",
      "76\n",
      "45\n",
      "89\n",
      "22\n",
      "66\n"
     ]
    }
   ],
   "source": [
    "for i in range(0,len(sonu2),2):\n",
    "    print(sonu2[i])"
   ]
  },
  {
   "cell_type": "code",
   "execution_count": 39,
   "id": "b2a6b5a2-467d-4225-adfa-02420efbca03",
   "metadata": {},
   "outputs": [
    {
     "data": {
      "text/plain": [
       "23"
      ]
     },
     "execution_count": 39,
     "metadata": {},
     "output_type": "execute_result"
    }
   ],
   "source": [
    "sonu2[0]"
   ]
  },
  {
   "cell_type": "code",
   "execution_count": 40,
   "id": "a0558623-a637-4c2e-98d6-8bc2f614185d",
   "metadata": {},
   "outputs": [],
   "source": [
    "sonu3=[1,2,3,4,5,7,9,98]\n"
   ]
  },
  {
   "cell_type": "code",
   "execution_count": 41,
   "id": "dc0fc40f-1717-4840-8578-44d40b692f5c",
   "metadata": {},
   "outputs": [
    {
     "data": {
      "text/plain": [
       "129"
      ]
     },
     "execution_count": 41,
     "metadata": {},
     "output_type": "execute_result"
    }
   ],
   "source": [
    "sum(sonu3)"
   ]
  },
  {
   "cell_type": "code",
   "execution_count": 42,
   "id": "1c2b782c-731e-4fe7-9a1a-7d90fdd8bd3a",
   "metadata": {},
   "outputs": [
    {
     "data": {
      "text/plain": [
       "129"
      ]
     },
     "execution_count": 42,
     "metadata": {},
     "output_type": "execute_result"
    }
   ],
   "source": [
    "sum = 0\n",
    "for i in sonu3 :\n",
    "    sum = sum+i\n",
    "sum\n"
   ]
  },
  {
   "cell_type": "code",
   "execution_count": 43,
   "id": "956338f3-5171-4868-89c7-ec53a3b906b3",
   "metadata": {},
   "outputs": [],
   "source": [
    "sonu4= (1,2,3,7,8,9,5,4)"
   ]
  },
  {
   "cell_type": "code",
   "execution_count": 45,
   "id": "0697948e-44dc-4afd-b87e-b7eabb3878f7",
   "metadata": {},
   "outputs": [
    {
     "name": "stdout",
     "output_type": "stream",
     "text": [
      "1\n",
      "2\n",
      "3\n",
      "7\n",
      "8\n",
      "9\n",
      "5\n",
      "4\n"
     ]
    }
   ],
   "source": [
    "for i in sonu4:\n",
    "    print(i)"
   ]
  },
  {
   "cell_type": "code",
   "execution_count": 46,
   "id": "9429957b-d82d-4b57-ad4c-213fa99ccf43",
   "metadata": {},
   "outputs": [
    {
     "data": {
      "text/plain": [
       "39"
      ]
     },
     "execution_count": 46,
     "metadata": {},
     "output_type": "execute_result"
    }
   ],
   "source": [
    "sum = 0\n",
    "for i in sonu4 :\n",
    "    sum = sum+i\n",
    "sum\n"
   ]
  },
  {
   "cell_type": "code",
   "execution_count": 47,
   "id": "32326ca8-eba7-426f-89b7-eb55cec6078e",
   "metadata": {},
   "outputs": [],
   "source": [
    "sonu5={1,2,3,4,5,\"sonu\",\"pwskills\"}"
   ]
  },
  {
   "cell_type": "code",
   "execution_count": 48,
   "id": "31ee660f-e9ed-4ee5-beab-ae3fc9f2e190",
   "metadata": {},
   "outputs": [
    {
     "name": "stdout",
     "output_type": "stream",
     "text": [
      "1\n",
      "2\n",
      "3\n",
      "4\n",
      "5\n",
      "pwskills\n",
      "sonu\n"
     ]
    }
   ],
   "source": [
    "for i in sonu5:\n",
    "    print(i)"
   ]
  },
  {
   "cell_type": "code",
   "execution_count": 49,
   "id": "fe49496e-0c58-45cb-916e-6f6893ed1f77",
   "metadata": {},
   "outputs": [],
   "source": [
    "s1=\"pwskills\""
   ]
  },
  {
   "cell_type": "code",
   "execution_count": 50,
   "id": "08043e7a-68bb-47d4-97ef-83ea50d98378",
   "metadata": {},
   "outputs": [
    {
     "name": "stdout",
     "output_type": "stream",
     "text": [
      "p\n",
      "w\n",
      "s\n",
      "k\n",
      "i\n",
      "l\n",
      "l\n",
      "s\n"
     ]
    }
   ],
   "source": [
    "for i in s1 :\n",
    "    print(i)"
   ]
  },
  {
   "cell_type": "code",
   "execution_count": 57,
   "id": "41a1eb16-6015-4128-af96-82d95d7b718d",
   "metadata": {},
   "outputs": [],
   "source": [
    "d= {\"name\"  : \"sonu\", \"class\" : \"data science masters\", \"topic\" : [\"python\",\"stats\",\"machine learning\"\n",
    "                                                                  ,\"DL\",\"CV\",\"NLP\",\"RESUME\",\"interview\"]}"
   ]
  },
  {
   "cell_type": "code",
   "execution_count": 58,
   "id": "3f04e3df-11f8-42a3-b0c1-7b7a5694858c",
   "metadata": {},
   "outputs": [
    {
     "data": {
      "text/plain": [
       "{'name': 'sonu',\n",
       " 'class': 'data science masters',\n",
       " 'topic': ['python',\n",
       "  'stats',\n",
       "  'machine learning',\n",
       "  'DL',\n",
       "  'CV',\n",
       "  'NLP',\n",
       "  'RESUME',\n",
       "  'interview']}"
      ]
     },
     "execution_count": 58,
     "metadata": {},
     "output_type": "execute_result"
    }
   ],
   "source": [
    "d"
   ]
  },
  {
   "cell_type": "code",
   "execution_count": 59,
   "id": "3643e683-3ca3-4080-a26d-fb1ca688c572",
   "metadata": {},
   "outputs": [
    {
     "data": {
      "text/plain": [
       "'sonu'"
      ]
     },
     "execution_count": 59,
     "metadata": {},
     "output_type": "execute_result"
    }
   ],
   "source": [
    "d['name']"
   ]
  },
  {
   "cell_type": "code",
   "execution_count": 60,
   "id": "ced4c6ef-63be-4206-a966-ed4280f4fa02",
   "metadata": {},
   "outputs": [
    {
     "data": {
      "text/plain": [
       "dict_keys(['name', 'class', 'topic'])"
      ]
     },
     "execution_count": 60,
     "metadata": {},
     "output_type": "execute_result"
    }
   ],
   "source": [
    "d.keys()"
   ]
  },
  {
   "cell_type": "code",
   "execution_count": 61,
   "id": "422d1ea8-ef60-4dd5-98c1-aeed0b47ad35",
   "metadata": {},
   "outputs": [
    {
     "name": "stdout",
     "output_type": "stream",
     "text": [
      "sonu\n",
      "data science masters\n",
      "['python', 'stats', 'machine learning', 'DL', 'CV', 'NLP', 'RESUME', 'interview']\n"
     ]
    }
   ],
   "source": [
    "for i in d.keys():\n",
    "    print(d[i])"
   ]
  },
  {
   "cell_type": "code",
   "execution_count": 62,
   "id": "6b99faec-513b-4ce5-a90f-a7da9ba131c2",
   "metadata": {},
   "outputs": [
    {
     "data": {
      "text/plain": [
       "dict_values(['sonu', 'data science masters', ['python', 'stats', 'machine learning', 'DL', 'CV', 'NLP', 'RESUME', 'interview']])"
      ]
     },
     "execution_count": 62,
     "metadata": {},
     "output_type": "execute_result"
    }
   ],
   "source": [
    "d.values()"
   ]
  },
  {
   "cell_type": "code",
   "execution_count": 63,
   "id": "13cdcdf5-9e7a-410b-b827-550307d512fd",
   "metadata": {},
   "outputs": [
    {
     "name": "stdout",
     "output_type": "stream",
     "text": [
      "sonu\n",
      "data science masters\n",
      "['python', 'stats', 'machine learning', 'DL', 'CV', 'NLP', 'RESUME', 'interview']\n"
     ]
    }
   ],
   "source": [
    "for i in d.values():\n",
    "    print(i)"
   ]
  },
  {
   "cell_type": "code",
   "execution_count": 64,
   "id": "7fdc8485-84a1-4dd4-b80f-f737f16d0cb4",
   "metadata": {},
   "outputs": [
    {
     "data": {
      "text/plain": [
       "dict_items([('name', 'sonu'), ('class', 'data science masters'), ('topic', ['python', 'stats', 'machine learning', 'DL', 'CV', 'NLP', 'RESUME', 'interview'])])"
      ]
     },
     "execution_count": 64,
     "metadata": {},
     "output_type": "execute_result"
    }
   ],
   "source": [
    "d.items()"
   ]
  },
  {
   "cell_type": "code",
   "execution_count": 65,
   "id": "3d673e0c-e21f-47d1-b71f-9ec35c8c1477",
   "metadata": {},
   "outputs": [
    {
     "name": "stdout",
     "output_type": "stream",
     "text": [
      "('name', 'sonu')\n",
      "('class', 'data science masters')\n",
      "('topic', ['python', 'stats', 'machine learning', 'DL', 'CV', 'NLP', 'RESUME', 'interview'])\n"
     ]
    }
   ],
   "source": [
    "for i in d.items():\n",
    "    print(i)"
   ]
  },
  {
   "cell_type": "code",
   "execution_count": null,
   "id": "8c626ffd-6b41-46ae-83d0-0b9de72eae51",
   "metadata": {},
   "outputs": [],
   "source": []
  }
 ],
 "metadata": {
  "kernelspec": {
   "display_name": "Python 3 (ipykernel)",
   "language": "python",
   "name": "python3"
  },
  "language_info": {
   "codemirror_mode": {
    "name": "ipython",
    "version": 3
   },
   "file_extension": ".py",
   "mimetype": "text/x-python",
   "name": "python",
   "nbconvert_exporter": "python",
   "pygments_lexer": "ipython3",
   "version": "3.10.8"
  }
 },
 "nbformat": 4,
 "nbformat_minor": 5
}
