{
 "cells": [
  {
   "cell_type": "code",
   "execution_count": 1,
   "id": "882c04f9-0b2a-480b-82de-000fe0e7c6cf",
   "metadata": {},
   "outputs": [],
   "source": [
    "d={}"
   ]
  },
  {
   "cell_type": "code",
   "execution_count": 2,
   "id": "8d56ecdd-61f8-4880-90fc-8928dd64edd6",
   "metadata": {},
   "outputs": [
    {
     "data": {
      "text/plain": [
       "dict"
      ]
     },
     "execution_count": 2,
     "metadata": {},
     "output_type": "execute_result"
    }
   ],
   "source": [
    "type(d)\n"
   ]
  },
  {
   "cell_type": "code",
   "execution_count": 4,
   "id": "f1a3efe2-2900-4bab-b561-2c35e7974fe3",
   "metadata": {},
   "outputs": [],
   "source": [
    "    sonu={'key' :\"amit\"}"
   ]
  },
  {
   "cell_type": "code",
   "execution_count": 5,
   "id": "6644260f-09b4-47a7-814b-e38e776b08f2",
   "metadata": {},
   "outputs": [
    {
     "data": {
      "text/plain": [
       "{'key': 'amit'}"
      ]
     },
     "execution_count": 5,
     "metadata": {},
     "output_type": "execute_result"
    }
   ],
   "source": [
    "sonu"
   ]
  },
  {
   "cell_type": "code",
   "execution_count": 6,
   "id": "8adbc571-99e9-4b8a-96ea-dc82123f8e4b",
   "metadata": {},
   "outputs": [],
   "source": [
    "d1={'name' :\"sonu\",\"email\" :\"sonukushwahanipt@gmail.com\"}"
   ]
  },
  {
   "cell_type": "code",
   "execution_count": 7,
   "id": "f96e74f3-d9a6-47a4-ace2-390e26074016",
   "metadata": {},
   "outputs": [
    {
     "data": {
      "text/plain": [
       "{'name': 'sonu', 'email': 'sonukushwahanipt@gmail.com'}"
      ]
     },
     "execution_count": 7,
     "metadata": {},
     "output_type": "execute_result"
    }
   ],
   "source": [
    "d1"
   ]
  },
  {
   "cell_type": "code",
   "execution_count": 8,
   "id": "458fd97c-bc16-4173-a28f-62eb982c6cf0",
   "metadata": {},
   "outputs": [],
   "source": [
    "d2={234 :\"sonu\"}"
   ]
  },
  {
   "cell_type": "code",
   "execution_count": 9,
   "id": "7aea82f9-0b6b-4d5d-b805-0f345eb177e4",
   "metadata": {},
   "outputs": [
    {
     "data": {
      "text/plain": [
       "{234: 'sonu'}"
      ]
     },
     "execution_count": 9,
     "metadata": {},
     "output_type": "execute_result"
    }
   ],
   "source": [
    "d2\n"
   ]
  },
  {
   "cell_type": "code",
   "execution_count": 10,
   "id": "c7063667-bf25-4b36-a7fe-781fbf323ecf",
   "metadata": {},
   "outputs": [],
   "source": [
    "d3={'@sonu' :345}"
   ]
  },
  {
   "cell_type": "code",
   "execution_count": 11,
   "id": "6389fdfe-247a-4eaf-bff4-58e9010f5631",
   "metadata": {},
   "outputs": [
    {
     "data": {
      "text/plain": [
       "{'@sonu': 345}"
      ]
     },
     "execution_count": 11,
     "metadata": {},
     "output_type": "execute_result"
    }
   ],
   "source": [
    "d3"
   ]
  },
  {
   "cell_type": "code",
   "execution_count": 12,
   "id": "465a9073-0c5f-491c-b509-ab0a834e2482",
   "metadata": {},
   "outputs": [
    {
     "ename": "SyntaxError",
     "evalue": "invalid syntax (1797588093.py, line 1)",
     "output_type": "error",
     "traceback": [
      "\u001b[0;36m  Cell \u001b[0;32mIn[12], line 1\u001b[0;36m\u001b[0m\n\u001b[0;31m    d4={678 :\"manu\", @anu :\"sonu\"}\u001b[0m\n\u001b[0m                     ^\u001b[0m\n\u001b[0;31mSyntaxError\u001b[0m\u001b[0;31m:\u001b[0m invalid syntax\n"
     ]
    }
   ],
   "source": [
    "d4={678 :\"manu\", @anu :\"sonu\"}"
   ]
  },
  {
   "cell_type": "code",
   "execution_count": 13,
   "id": "a114a657-afae-4e89-8ba9-ef7bca053803",
   "metadata": {},
   "outputs": [],
   "source": [
    "#specil symbol are not allow for key"
   ]
  },
  {
   "cell_type": "code",
   "execution_count": 14,
   "id": "5c1d85e3-6afe-462c-8f4c-97597df2fbf9",
   "metadata": {},
   "outputs": [],
   "source": [
    "d5={'@sonu' :345,True : 3456}"
   ]
  },
  {
   "cell_type": "code",
   "execution_count": 15,
   "id": "7ec33378-a504-4c65-b74b-0abdeab79ad0",
   "metadata": {},
   "outputs": [
    {
     "data": {
      "text/plain": [
       "{'@sonu': 345, True: 3456}"
      ]
     },
     "execution_count": 15,
     "metadata": {},
     "output_type": "execute_result"
    }
   ],
   "source": [
    "d5 #boolean value are allow"
   ]
  },
  {
   "cell_type": "code",
   "execution_count": 24,
   "id": "dd23c9d1-33d9-4e08-bbd2-4a04524d8260",
   "metadata": {},
   "outputs": [],
   "source": [
    "d6={567 :\"sudh\", '_wer' : \"kumar\",True :234,False :980}"
   ]
  },
  {
   "cell_type": "code",
   "execution_count": 25,
   "id": "66946b76-4624-4baf-ab98-8a40feeaf8a1",
   "metadata": {},
   "outputs": [
    {
     "data": {
      "text/plain": [
       "{567: 'sudh', '_wer': 'kumar', True: 234, False: 980}"
      ]
     },
     "execution_count": 25,
     "metadata": {},
     "output_type": "execute_result"
    }
   ],
   "source": [
    "d6"
   ]
  },
  {
   "cell_type": "code",
   "execution_count": 26,
   "id": "19474a16-8a61-44da-8db3-d02fc3fb9d87",
   "metadata": {},
   "outputs": [
    {
     "data": {
      "text/plain": [
       "'sudh'"
      ]
     },
     "execution_count": 26,
     "metadata": {},
     "output_type": "execute_result"
    }
   ],
   "source": [
    "d6[567]"
   ]
  },
  {
   "cell_type": "code",
   "execution_count": 27,
   "id": "dc044e12-f43f-4913-b434-6d7f12480cec",
   "metadata": {},
   "outputs": [
    {
     "data": {
      "text/plain": [
       "234"
      ]
     },
     "execution_count": 27,
     "metadata": {},
     "output_type": "execute_result"
    }
   ],
   "source": [
    "d6[1]"
   ]
  },
  {
   "cell_type": "code",
   "execution_count": 28,
   "id": "c5a86ea9-1ed4-4ad1-8a77-0a1808ddc3d7",
   "metadata": {},
   "outputs": [
    {
     "data": {
      "text/plain": [
       "980"
      ]
     },
     "execution_count": 28,
     "metadata": {},
     "output_type": "execute_result"
    }
   ],
   "source": [
    "d6[0]"
   ]
  },
  {
   "cell_type": "code",
   "execution_count": 29,
   "id": "127ebdeb-cf02-4f68-ad08-a93bf54f78f4",
   "metadata": {},
   "outputs": [],
   "source": [
    "d7={'name' : \"sonu\",'mail_id' :\"ss@gmail.com\",\"name\" :\"sonu kumar\"}"
   ]
  },
  {
   "cell_type": "code",
   "execution_count": 30,
   "id": "8ccbe322-6eea-4069-9c01-b0f952b09d24",
   "metadata": {},
   "outputs": [
    {
     "data": {
      "text/plain": [
       "{'name': 'sonu kumar', 'mail_id': 'ss@gmail.com'}"
      ]
     },
     "execution_count": 30,
     "metadata": {},
     "output_type": "execute_result"
    }
   ],
   "source": [
    "d7"
   ]
  },
  {
   "cell_type": "code",
   "execution_count": 32,
   "id": "9bff4e10-dbbe-4dfb-b8c2-bb2caaecabc7",
   "metadata": {},
   "outputs": [
    {
     "data": {
      "text/plain": [
       "'sonu kumar'"
      ]
     },
     "execution_count": 32,
     "metadata": {},
     "output_type": "execute_result"
    }
   ],
   "source": [
    "d7['name'] #last value of key is print"
   ]
  },
  {
   "cell_type": "code",
   "execution_count": 37,
   "id": "e35159e1-cd0d-4ac0-8fb8-73753b2502e5",
   "metadata": {},
   "outputs": [],
   "source": [
    "d8={\"company\" : \"sonuskills\" ,\"course\" :[\"web dev\",\"data science\"]}"
   ]
  },
  {
   "cell_type": "code",
   "execution_count": 38,
   "id": "84bfa9c3-458a-4407-ad5d-e6da94a46afb",
   "metadata": {},
   "outputs": [
    {
     "data": {
      "text/plain": [
       "{'company': 'sonuskills', 'course': ['web dev', 'data science']}"
      ]
     },
     "execution_count": 38,
     "metadata": {},
     "output_type": "execute_result"
    }
   ],
   "source": [
    "d8"
   ]
  },
  {
   "cell_type": "code",
   "execution_count": 39,
   "id": "bbb97c13-18ee-4434-8185-a20ede422d5f",
   "metadata": {},
   "outputs": [
    {
     "data": {
      "text/plain": [
       "'data science'"
      ]
     },
     "execution_count": 39,
     "metadata": {},
     "output_type": "execute_result"
    }
   ],
   "source": [
    "d8['course'][1]"
   ]
  },
  {
   "cell_type": "code",
   "execution_count": 42,
   "id": "383c7f16-8ad0-412c-b88d-af7695326d59",
   "metadata": {},
   "outputs": [],
   "source": [
    "d9={'number' :[2,3,4,1,5],\"assignment\" :(1,2,3,4,5),\"lunch_date\" :{24,6,23}}"
   ]
  },
  {
   "cell_type": "code",
   "execution_count": 43,
   "id": "570d2eee-02f3-4f34-b2ff-0836da72fffb",
   "metadata": {},
   "outputs": [
    {
     "data": {
      "text/plain": [
       "{'number': [2, 3, 4, 1, 5],\n",
       " 'assignment': (1, 2, 3, 4, 5),\n",
       " 'lunch_date': {6, 23, 24}}"
      ]
     },
     "execution_count": 43,
     "metadata": {},
     "output_type": "execute_result"
    }
   ],
   "source": [
    "d9"
   ]
  },
  {
   "cell_type": "code",
   "execution_count": 44,
   "id": "0f19be51-2654-4212-8e3b-6e9cc91e3b5b",
   "metadata": {},
   "outputs": [
    {
     "data": {
      "text/plain": [
       "1"
      ]
     },
     "execution_count": 44,
     "metadata": {},
     "output_type": "execute_result"
    }
   ],
   "source": [
    "d9['number'][3]"
   ]
  },
  {
   "cell_type": "code",
   "execution_count": 45,
   "id": "0b9fb44c-1cfd-4022-9f56-35bbba707a22",
   "metadata": {},
   "outputs": [
    {
     "data": {
      "text/plain": [
       "(1, 2, 3, 4, 5)"
      ]
     },
     "execution_count": 45,
     "metadata": {},
     "output_type": "execute_result"
    }
   ],
   "source": [
    "d9['assignment']"
   ]
  },
  {
   "cell_type": "code",
   "execution_count": 48,
   "id": "1aa2f487-e440-42ed-b479-4fa5f14fe8ae",
   "metadata": {},
   "outputs": [],
   "source": [
    "d9['mentor'] = [\"sonu\",\"amit\"] #insert new key"
   ]
  },
  {
   "cell_type": "code",
   "execution_count": 49,
   "id": "4e38ee72-d3ba-438b-a42a-8770befa0765",
   "metadata": {},
   "outputs": [
    {
     "data": {
      "text/plain": [
       "{'number': [2, 3, 4, 1, 5],\n",
       " 'assignment': (1, 2, 3, 4, 5),\n",
       " 'lunch_date': {6, 23, 24},\n",
       " 'mentor': ['sonu', 'amit']}"
      ]
     },
     "execution_count": 49,
     "metadata": {},
     "output_type": "execute_result"
    }
   ],
   "source": [
    "d9"
   ]
  },
  {
   "cell_type": "code",
   "execution_count": 50,
   "id": "017e0f29-72f8-4626-88ad-3c9f7f2d00e9",
   "metadata": {},
   "outputs": [],
   "source": [
    "del d9['number'] #delete key"
   ]
  },
  {
   "cell_type": "code",
   "execution_count": 51,
   "id": "ee7647d8-5f2e-423e-8df0-381022fe7725",
   "metadata": {},
   "outputs": [
    {
     "data": {
      "text/plain": [
       "{'assignment': (1, 2, 3, 4, 5),\n",
       " 'lunch_date': {6, 23, 24},\n",
       " 'mentor': ['sonu', 'amit']}"
      ]
     },
     "execution_count": 51,
     "metadata": {},
     "output_type": "execute_result"
    }
   ],
   "source": [
    "d9"
   ]
  },
  {
   "cell_type": "code",
   "execution_count": 52,
   "id": "83666660-f6a1-4ce5-856e-f3710b86b645",
   "metadata": {},
   "outputs": [
    {
     "data": {
      "text/plain": [
       "dict_keys(['assignment', 'lunch_date', 'mentor'])"
      ]
     },
     "execution_count": 52,
     "metadata": {},
     "output_type": "execute_result"
    }
   ],
   "source": [
    "d9.keys()"
   ]
  },
  {
   "cell_type": "code",
   "execution_count": 53,
   "id": "ec4a98da-eb0b-472a-9427-a803ef2e01f8",
   "metadata": {},
   "outputs": [
    {
     "data": {
      "text/plain": [
       "['assignment', 'lunch_date', 'mentor']"
      ]
     },
     "execution_count": 53,
     "metadata": {},
     "output_type": "execute_result"
    }
   ],
   "source": [
    "list(d9.keys())"
   ]
  },
  {
   "cell_type": "code",
   "execution_count": 54,
   "id": "43cc7bdc-4e6d-4147-8ef7-820b7a554811",
   "metadata": {},
   "outputs": [
    {
     "data": {
      "text/plain": [
       "('assignment', 'lunch_date', 'mentor')"
      ]
     },
     "execution_count": 54,
     "metadata": {},
     "output_type": "execute_result"
    }
   ],
   "source": [
    "tuple(d9.keys())"
   ]
  },
  {
   "cell_type": "code",
   "execution_count": 55,
   "id": "4c4f23d9-60fd-4309-bedf-a6070432ab77",
   "metadata": {},
   "outputs": [
    {
     "data": {
      "text/plain": [
       "{'assignment', 'lunch_date', 'mentor'}"
      ]
     },
     "execution_count": 55,
     "metadata": {},
     "output_type": "execute_result"
    }
   ],
   "source": [
    "set(d9.keys())"
   ]
  },
  {
   "cell_type": "code",
   "execution_count": 56,
   "id": "075ef7c5-28d6-4279-8c1e-7fa1a977b9d1",
   "metadata": {},
   "outputs": [
    {
     "data": {
      "text/plain": [
       "dict_values([(1, 2, 3, 4, 5), {24, 6, 23}, ['sonu', 'amit']])"
      ]
     },
     "execution_count": 56,
     "metadata": {},
     "output_type": "execute_result"
    }
   ],
   "source": [
    "d9.values()"
   ]
  },
  {
   "cell_type": "code",
   "execution_count": 57,
   "id": "621ee458-8ad9-467b-a005-18e4480612bf",
   "metadata": {},
   "outputs": [
    {
     "data": {
      "text/plain": [
       "[(1, 2, 3, 4, 5), {6, 23, 24}, ['sonu', 'amit']]"
      ]
     },
     "execution_count": 57,
     "metadata": {},
     "output_type": "execute_result"
    }
   ],
   "source": [
    "list(d9.values())"
   ]
  },
  {
   "cell_type": "code",
   "execution_count": 59,
   "id": "470d24f2-b9d1-4d3d-954c-b45382bea0eb",
   "metadata": {},
   "outputs": [
    {
     "data": {
      "text/plain": [
       "dict_items([('assignment', (1, 2, 3, 4, 5)), ('lunch_date', {24, 6, 23}), ('mentor', ['sonu', 'amit'])])"
      ]
     },
     "execution_count": 59,
     "metadata": {},
     "output_type": "execute_result"
    }
   ],
   "source": [
    "d9.items()"
   ]
  },
  {
   "cell_type": "code",
   "execution_count": null,
   "id": "ecee8539-07c3-419d-8c55-67cd49100c8a",
   "metadata": {},
   "outputs": [],
   "source": [
    "d9"
   ]
  }
 ],
 "metadata": {
  "kernelspec": {
   "display_name": "Python 3 (ipykernel)",
   "language": "python",
   "name": "python3"
  },
  "language_info": {
   "codemirror_mode": {
    "name": "ipython",
    "version": 3
   },
   "file_extension": ".py",
   "mimetype": "text/x-python",
   "name": "python",
   "nbconvert_exporter": "python",
   "pygments_lexer": "ipython3",
   "version": "3.10.8"
  }
 },
 "nbformat": 4,
 "nbformat_minor": 5
}
